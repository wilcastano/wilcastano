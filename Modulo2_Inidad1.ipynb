{
  "nbformat": 4,
  "nbformat_minor": 0,
  "metadata": {
    "kernelspec": {
      "display_name": "Python 3",
      "language": "python",
      "name": "python3"
    },
    "language_info": {
      "codemirror_mode": {
        "name": "ipython",
        "version": 3
      },
      "file_extension": ".py",
      "mimetype": "text/x-python",
      "name": "python",
      "nbconvert_exporter": "python",
      "pygments_lexer": "ipython3",
      "version": "3.7.6"
    },
    "colab": {
      "provenance": [],
      "include_colab_link": true
    }
  },
  "cells": [
    {
      "cell_type": "markdown",
      "metadata": {
        "id": "view-in-github",
        "colab_type": "text"
      },
      "source": [
        "<a href=\"https://colab.research.google.com/github/wilcastano/wilcastano/blob/main/Modulo2_Inidad1.ipynb\" target=\"_parent\"><img src=\"https://colab.research.google.com/assets/colab-badge.svg\" alt=\"Open In Colab\"/></a>"
      ]
    },
    {
      "cell_type": "markdown",
      "metadata": {
        "id": "F-vDNc4QZ_HG"
      },
      "source": [
        "\n",
        "Actividad Unidad 3\n",
        "\n",
        "Grupo 8:\n",
        "\n",
        "Antonio Giacometto\n",
        "Antonio Fajardo\n",
        "Wilmer Castaño\n",
        "\n",
        "Dataset:hyroid-disease \n",
        "https://archive.ics.uci.edu/ml/machine-learning-databases/thyroid-disease/allhypo.data\n",
        "\n",
        "by the Garavan Institute and J. Ross  Quinlan, New South Wales Institute, Syndney, Australia.\n",
        " 1987.\n"
      ]
    },
    {
      "cell_type": "code",
      "metadata": {
        "id": "UJAoETnlZ_HI",
        "colab": {
          "base_uri": "https://localhost:8080/",
          "height": 299
        },
        "outputId": "eafeb78b-4385-4fea-a4fa-acd1694edfbc"
      },
      "source": [
        "# Carga de librerías y lectura del archivo que contiene los datos\n",
        "\n",
        "import numpy as np\n",
        "import pandas as pd\n",
        "import sklearn as sk\n",
        "import seaborn as sns\n",
        "import matplotlib.pyplot as plt\n",
        "\n",
        "url=\"https://archive.ics.uci.edu/ml/machine-learning-databases/thyroid-disease/allhypo.data\"\n",
        "data = pd.read_csv(url, header=None, na_values=\"?\")\n",
        "#data = pd.read_csv(url, header=None, keep_default_na=True)\n",
        "\n",
        "# Se etiquetan las columnas para poder interpretar más fácilmente los datos.\n",
        "# Cada fila es un ejemplo, cada columna un atributo.\n",
        "# La columna llamada C es el atributo a predecir\n",
        "data.columns = ['age', 'sex', 'on_thyroxine', 'query_on_thyroxine', 'on_antithyroid_medication', 'sick', 'pregnant',\n",
        "              'thyroid_surgery', 'I131_treatment', 'query_hypothyroid', 'query_hyperthyroid', 'lithium', 'goitre', 'tumor', \n",
        "              'hypopituitary','psych','TSH_measured','TSH','T3_measured','T3','TT4_measured','TT4','T4U_measured','T4U',\n",
        "              'FTI_measured','FTI','TBG_measured','TBG','referral_source','Class']\n",
        "\n",
        "#Se ajusta la clase eliminado descripcion\n",
        "data['Class']= data['Class'].str.split('.', expand=True)[0]\n",
        "\n",
        "\n",
        "#Se convierte tipos de dato object a Float\n",
        "data['age'] =  pd.to_numeric(data.age, errors=\"coerce\")\n",
        "data['TSH'] = data['TSH'].astype(float)\n",
        "data['T3'] = data['T3'].astype(float)\n",
        "data['TT4'] = data['TT4'].astype(float)\n",
        "data['T4U'] = data['T4U'].astype(float)\n",
        "data['FTI'] = data['FTI'].astype(float)\n",
        "data['TBG'] = data['TBG'].astype(float)\n",
        "\n",
        "data.head()"
      ],
      "execution_count": null,
      "outputs": [
        {
          "output_type": "execute_result",
          "data": {
            "text/plain": [
              "    age sex on_thyroxine query_on_thyroxine on_antithyroid_medication sick  \\\n",
              "0  41.0   F            f                  f                         f    f   \n",
              "1  23.0   F            f                  f                         f    f   \n",
              "2  46.0   M            f                  f                         f    f   \n",
              "3  70.0   F            t                  f                         f    f   \n",
              "4  70.0   F            f                  f                         f    f   \n",
              "\n",
              "  pregnant thyroid_surgery I131_treatment query_hypothyroid  ... TT4_measured  \\\n",
              "0        f               f              f                 f  ...            t   \n",
              "1        f               f              f                 f  ...            t   \n",
              "2        f               f              f                 f  ...            t   \n",
              "3        f               f              f                 f  ...            t   \n",
              "4        f               f              f                 f  ...            t   \n",
              "\n",
              "     TT4 T4U_measured   T4U FTI_measured    FTI TBG_measured  TBG  \\\n",
              "0  125.0            t  1.14            t  109.0            f  NaN   \n",
              "1  102.0            f   NaN            f    NaN            f  NaN   \n",
              "2  109.0            t  0.91            t  120.0            f  NaN   \n",
              "3  175.0            f   NaN            f    NaN            f  NaN   \n",
              "4   61.0            t  0.87            t   70.0            f  NaN   \n",
              "\n",
              "  referral_source     Class  \n",
              "0            SVHC  negative  \n",
              "1           other  negative  \n",
              "2           other  negative  \n",
              "3           other  negative  \n",
              "4             SVI  negative  \n",
              "\n",
              "[5 rows x 30 columns]"
            ],
            "text/html": [
              "\n",
              "  <div id=\"df-066508c7-cdbd-466c-93a3-1c6ae6c3f521\">\n",
              "    <div class=\"colab-df-container\">\n",
              "      <div>\n",
              "<style scoped>\n",
              "    .dataframe tbody tr th:only-of-type {\n",
              "        vertical-align: middle;\n",
              "    }\n",
              "\n",
              "    .dataframe tbody tr th {\n",
              "        vertical-align: top;\n",
              "    }\n",
              "\n",
              "    .dataframe thead th {\n",
              "        text-align: right;\n",
              "    }\n",
              "</style>\n",
              "<table border=\"1\" class=\"dataframe\">\n",
              "  <thead>\n",
              "    <tr style=\"text-align: right;\">\n",
              "      <th></th>\n",
              "      <th>age</th>\n",
              "      <th>sex</th>\n",
              "      <th>on_thyroxine</th>\n",
              "      <th>query_on_thyroxine</th>\n",
              "      <th>on_antithyroid_medication</th>\n",
              "      <th>sick</th>\n",
              "      <th>pregnant</th>\n",
              "      <th>thyroid_surgery</th>\n",
              "      <th>I131_treatment</th>\n",
              "      <th>query_hypothyroid</th>\n",
              "      <th>...</th>\n",
              "      <th>TT4_measured</th>\n",
              "      <th>TT4</th>\n",
              "      <th>T4U_measured</th>\n",
              "      <th>T4U</th>\n",
              "      <th>FTI_measured</th>\n",
              "      <th>FTI</th>\n",
              "      <th>TBG_measured</th>\n",
              "      <th>TBG</th>\n",
              "      <th>referral_source</th>\n",
              "      <th>Class</th>\n",
              "    </tr>\n",
              "  </thead>\n",
              "  <tbody>\n",
              "    <tr>\n",
              "      <th>0</th>\n",
              "      <td>41.0</td>\n",
              "      <td>F</td>\n",
              "      <td>f</td>\n",
              "      <td>f</td>\n",
              "      <td>f</td>\n",
              "      <td>f</td>\n",
              "      <td>f</td>\n",
              "      <td>f</td>\n",
              "      <td>f</td>\n",
              "      <td>f</td>\n",
              "      <td>...</td>\n",
              "      <td>t</td>\n",
              "      <td>125.0</td>\n",
              "      <td>t</td>\n",
              "      <td>1.14</td>\n",
              "      <td>t</td>\n",
              "      <td>109.0</td>\n",
              "      <td>f</td>\n",
              "      <td>NaN</td>\n",
              "      <td>SVHC</td>\n",
              "      <td>negative</td>\n",
              "    </tr>\n",
              "    <tr>\n",
              "      <th>1</th>\n",
              "      <td>23.0</td>\n",
              "      <td>F</td>\n",
              "      <td>f</td>\n",
              "      <td>f</td>\n",
              "      <td>f</td>\n",
              "      <td>f</td>\n",
              "      <td>f</td>\n",
              "      <td>f</td>\n",
              "      <td>f</td>\n",
              "      <td>f</td>\n",
              "      <td>...</td>\n",
              "      <td>t</td>\n",
              "      <td>102.0</td>\n",
              "      <td>f</td>\n",
              "      <td>NaN</td>\n",
              "      <td>f</td>\n",
              "      <td>NaN</td>\n",
              "      <td>f</td>\n",
              "      <td>NaN</td>\n",
              "      <td>other</td>\n",
              "      <td>negative</td>\n",
              "    </tr>\n",
              "    <tr>\n",
              "      <th>2</th>\n",
              "      <td>46.0</td>\n",
              "      <td>M</td>\n",
              "      <td>f</td>\n",
              "      <td>f</td>\n",
              "      <td>f</td>\n",
              "      <td>f</td>\n",
              "      <td>f</td>\n",
              "      <td>f</td>\n",
              "      <td>f</td>\n",
              "      <td>f</td>\n",
              "      <td>...</td>\n",
              "      <td>t</td>\n",
              "      <td>109.0</td>\n",
              "      <td>t</td>\n",
              "      <td>0.91</td>\n",
              "      <td>t</td>\n",
              "      <td>120.0</td>\n",
              "      <td>f</td>\n",
              "      <td>NaN</td>\n",
              "      <td>other</td>\n",
              "      <td>negative</td>\n",
              "    </tr>\n",
              "    <tr>\n",
              "      <th>3</th>\n",
              "      <td>70.0</td>\n",
              "      <td>F</td>\n",
              "      <td>t</td>\n",
              "      <td>f</td>\n",
              "      <td>f</td>\n",
              "      <td>f</td>\n",
              "      <td>f</td>\n",
              "      <td>f</td>\n",
              "      <td>f</td>\n",
              "      <td>f</td>\n",
              "      <td>...</td>\n",
              "      <td>t</td>\n",
              "      <td>175.0</td>\n",
              "      <td>f</td>\n",
              "      <td>NaN</td>\n",
              "      <td>f</td>\n",
              "      <td>NaN</td>\n",
              "      <td>f</td>\n",
              "      <td>NaN</td>\n",
              "      <td>other</td>\n",
              "      <td>negative</td>\n",
              "    </tr>\n",
              "    <tr>\n",
              "      <th>4</th>\n",
              "      <td>70.0</td>\n",
              "      <td>F</td>\n",
              "      <td>f</td>\n",
              "      <td>f</td>\n",
              "      <td>f</td>\n",
              "      <td>f</td>\n",
              "      <td>f</td>\n",
              "      <td>f</td>\n",
              "      <td>f</td>\n",
              "      <td>f</td>\n",
              "      <td>...</td>\n",
              "      <td>t</td>\n",
              "      <td>61.0</td>\n",
              "      <td>t</td>\n",
              "      <td>0.87</td>\n",
              "      <td>t</td>\n",
              "      <td>70.0</td>\n",
              "      <td>f</td>\n",
              "      <td>NaN</td>\n",
              "      <td>SVI</td>\n",
              "      <td>negative</td>\n",
              "    </tr>\n",
              "  </tbody>\n",
              "</table>\n",
              "<p>5 rows × 30 columns</p>\n",
              "</div>\n",
              "      <button class=\"colab-df-convert\" onclick=\"convertToInteractive('df-066508c7-cdbd-466c-93a3-1c6ae6c3f521')\"\n",
              "              title=\"Convert this dataframe to an interactive table.\"\n",
              "              style=\"display:none;\">\n",
              "        \n",
              "  <svg xmlns=\"http://www.w3.org/2000/svg\" height=\"24px\"viewBox=\"0 0 24 24\"\n",
              "       width=\"24px\">\n",
              "    <path d=\"M0 0h24v24H0V0z\" fill=\"none\"/>\n",
              "    <path d=\"M18.56 5.44l.94 2.06.94-2.06 2.06-.94-2.06-.94-.94-2.06-.94 2.06-2.06.94zm-11 1L8.5 8.5l.94-2.06 2.06-.94-2.06-.94L8.5 2.5l-.94 2.06-2.06.94zm10 10l.94 2.06.94-2.06 2.06-.94-2.06-.94-.94-2.06-.94 2.06-2.06.94z\"/><path d=\"M17.41 7.96l-1.37-1.37c-.4-.4-.92-.59-1.43-.59-.52 0-1.04.2-1.43.59L10.3 9.45l-7.72 7.72c-.78.78-.78 2.05 0 2.83L4 21.41c.39.39.9.59 1.41.59.51 0 1.02-.2 1.41-.59l7.78-7.78 2.81-2.81c.8-.78.8-2.07 0-2.86zM5.41 20L4 18.59l7.72-7.72 1.47 1.35L5.41 20z\"/>\n",
              "  </svg>\n",
              "      </button>\n",
              "      \n",
              "  <style>\n",
              "    .colab-df-container {\n",
              "      display:flex;\n",
              "      flex-wrap:wrap;\n",
              "      gap: 12px;\n",
              "    }\n",
              "\n",
              "    .colab-df-convert {\n",
              "      background-color: #E8F0FE;\n",
              "      border: none;\n",
              "      border-radius: 50%;\n",
              "      cursor: pointer;\n",
              "      display: none;\n",
              "      fill: #1967D2;\n",
              "      height: 32px;\n",
              "      padding: 0 0 0 0;\n",
              "      width: 32px;\n",
              "    }\n",
              "\n",
              "    .colab-df-convert:hover {\n",
              "      background-color: #E2EBFA;\n",
              "      box-shadow: 0px 1px 2px rgba(60, 64, 67, 0.3), 0px 1px 3px 1px rgba(60, 64, 67, 0.15);\n",
              "      fill: #174EA6;\n",
              "    }\n",
              "\n",
              "    [theme=dark] .colab-df-convert {\n",
              "      background-color: #3B4455;\n",
              "      fill: #D2E3FC;\n",
              "    }\n",
              "\n",
              "    [theme=dark] .colab-df-convert:hover {\n",
              "      background-color: #434B5C;\n",
              "      box-shadow: 0px 1px 3px 1px rgba(0, 0, 0, 0.15);\n",
              "      filter: drop-shadow(0px 1px 2px rgba(0, 0, 0, 0.3));\n",
              "      fill: #FFFFFF;\n",
              "    }\n",
              "  </style>\n",
              "\n",
              "      <script>\n",
              "        const buttonEl =\n",
              "          document.querySelector('#df-066508c7-cdbd-466c-93a3-1c6ae6c3f521 button.colab-df-convert');\n",
              "        buttonEl.style.display =\n",
              "          google.colab.kernel.accessAllowed ? 'block' : 'none';\n",
              "\n",
              "        async function convertToInteractive(key) {\n",
              "          const element = document.querySelector('#df-066508c7-cdbd-466c-93a3-1c6ae6c3f521');\n",
              "          const dataTable =\n",
              "            await google.colab.kernel.invokeFunction('convertToInteractive',\n",
              "                                                     [key], {});\n",
              "          if (!dataTable) return;\n",
              "\n",
              "          const docLinkHtml = 'Like what you see? Visit the ' +\n",
              "            '<a target=\"_blank\" href=https://colab.research.google.com/notebooks/data_table.ipynb>data table notebook</a>'\n",
              "            + ' to learn more about interactive tables.';\n",
              "          element.innerHTML = '';\n",
              "          dataTable['output_type'] = 'display_data';\n",
              "          await google.colab.output.renderOutput(dataTable, element);\n",
              "          const docLink = document.createElement('div');\n",
              "          docLink.innerHTML = docLinkHtml;\n",
              "          element.appendChild(docLink);\n",
              "        }\n",
              "      </script>\n",
              "    </div>\n",
              "  </div>\n",
              "  "
            ]
          },
          "metadata": {},
          "execution_count": 270
        }
      ]
    },
    {
      "cell_type": "code",
      "metadata": {
        "id": "PGb7IUB5Z_HJ",
        "colab": {
          "base_uri": "https://localhost:8080/"
        },
        "outputId": "04df2cf0-ce7c-4fc8-f0bd-c43cd8c116d4"
      },
      "source": [
        "#Cuál es el número de registros?\n",
        "#Cuál es el número de atributos?\n",
        "\n",
        "shape = data.shape\n",
        "shape"
      ],
      "execution_count": null,
      "outputs": [
        {
          "output_type": "execute_result",
          "data": {
            "text/plain": [
              "(2800, 30)"
            ]
          },
          "metadata": {},
          "execution_count": 271
        }
      ]
    },
    {
      "cell_type": "code",
      "metadata": {
        "id": "_FMC33uwZ_HK",
        "colab": {
          "base_uri": "https://localhost:8080/"
        },
        "outputId": "2cb0370f-16f2-4a64-ec84-ecc02839ea6c"
      },
      "source": [
        "#Cual es el tipo de los atributos?\n",
        "data.dtypes"
      ],
      "execution_count": null,
      "outputs": [
        {
          "output_type": "execute_result",
          "data": {
            "text/plain": [
              "age                          float64\n",
              "sex                           object\n",
              "on_thyroxine                  object\n",
              "query_on_thyroxine            object\n",
              "on_antithyroid_medication     object\n",
              "sick                          object\n",
              "pregnant                      object\n",
              "thyroid_surgery               object\n",
              "I131_treatment                object\n",
              "query_hypothyroid             object\n",
              "query_hyperthyroid            object\n",
              "lithium                       object\n",
              "goitre                        object\n",
              "tumor                         object\n",
              "hypopituitary                 object\n",
              "psych                         object\n",
              "TSH_measured                  object\n",
              "TSH                          float64\n",
              "T3_measured                   object\n",
              "T3                           float64\n",
              "TT4_measured                  object\n",
              "TT4                          float64\n",
              "T4U_measured                  object\n",
              "T4U                          float64\n",
              "FTI_measured                  object\n",
              "FTI                          float64\n",
              "TBG_measured                  object\n",
              "TBG                          float64\n",
              "referral_source               object\n",
              "Class                         object\n",
              "dtype: object"
            ]
          },
          "metadata": {},
          "execution_count": 272
        }
      ]
    },
    {
      "cell_type": "code",
      "metadata": {
        "id": "t2u4jkkvZ_HK",
        "colab": {
          "base_uri": "https://localhost:8080/",
          "height": 300
        },
        "outputId": "4ea7adb2-80b6-4b7c-ccdd-6f6748a87846"
      },
      "source": [
        "#Medida de centralidad y desviación para atributos numéricos:\n",
        "data.describe()"
      ],
      "execution_count": null,
      "outputs": [
        {
          "output_type": "execute_result",
          "data": {
            "text/plain": [
              "              age          TSH           T3          TT4          T4U  \\\n",
              "count  2799.00000  2516.000000  2215.000000  2616.000000  2503.000000   \n",
              "mean     51.84423     4.672150     2.024966   109.072401     0.997912   \n",
              "std      20.46116    21.449453     0.824600    35.392443     0.194390   \n",
              "min       1.00000     0.005000     0.050000     2.000000     0.310000   \n",
              "25%      36.00000     0.440000     1.600000    88.000000     0.880000   \n",
              "50%      54.00000     1.400000     2.000000   104.000000     0.980000   \n",
              "75%      67.00000     2.600000     2.400000   125.000000     1.080000   \n",
              "max     455.00000   478.000000    10.600000   430.000000     2.120000   \n",
              "\n",
              "               FTI  TBG  \n",
              "count  2505.000000  0.0  \n",
              "mean    110.787984  NaN  \n",
              "std      32.883986  NaN  \n",
              "min       2.000000  NaN  \n",
              "25%      93.000000  NaN  \n",
              "50%     107.000000  NaN  \n",
              "75%     124.000000  NaN  \n",
              "max     395.000000  NaN  "
            ],
            "text/html": [
              "\n",
              "  <div id=\"df-910b8131-8d73-43a9-ba52-0b39a111ae0d\">\n",
              "    <div class=\"colab-df-container\">\n",
              "      <div>\n",
              "<style scoped>\n",
              "    .dataframe tbody tr th:only-of-type {\n",
              "        vertical-align: middle;\n",
              "    }\n",
              "\n",
              "    .dataframe tbody tr th {\n",
              "        vertical-align: top;\n",
              "    }\n",
              "\n",
              "    .dataframe thead th {\n",
              "        text-align: right;\n",
              "    }\n",
              "</style>\n",
              "<table border=\"1\" class=\"dataframe\">\n",
              "  <thead>\n",
              "    <tr style=\"text-align: right;\">\n",
              "      <th></th>\n",
              "      <th>age</th>\n",
              "      <th>TSH</th>\n",
              "      <th>T3</th>\n",
              "      <th>TT4</th>\n",
              "      <th>T4U</th>\n",
              "      <th>FTI</th>\n",
              "      <th>TBG</th>\n",
              "    </tr>\n",
              "  </thead>\n",
              "  <tbody>\n",
              "    <tr>\n",
              "      <th>count</th>\n",
              "      <td>2799.00000</td>\n",
              "      <td>2516.000000</td>\n",
              "      <td>2215.000000</td>\n",
              "      <td>2616.000000</td>\n",
              "      <td>2503.000000</td>\n",
              "      <td>2505.000000</td>\n",
              "      <td>0.0</td>\n",
              "    </tr>\n",
              "    <tr>\n",
              "      <th>mean</th>\n",
              "      <td>51.84423</td>\n",
              "      <td>4.672150</td>\n",
              "      <td>2.024966</td>\n",
              "      <td>109.072401</td>\n",
              "      <td>0.997912</td>\n",
              "      <td>110.787984</td>\n",
              "      <td>NaN</td>\n",
              "    </tr>\n",
              "    <tr>\n",
              "      <th>std</th>\n",
              "      <td>20.46116</td>\n",
              "      <td>21.449453</td>\n",
              "      <td>0.824600</td>\n",
              "      <td>35.392443</td>\n",
              "      <td>0.194390</td>\n",
              "      <td>32.883986</td>\n",
              "      <td>NaN</td>\n",
              "    </tr>\n",
              "    <tr>\n",
              "      <th>min</th>\n",
              "      <td>1.00000</td>\n",
              "      <td>0.005000</td>\n",
              "      <td>0.050000</td>\n",
              "      <td>2.000000</td>\n",
              "      <td>0.310000</td>\n",
              "      <td>2.000000</td>\n",
              "      <td>NaN</td>\n",
              "    </tr>\n",
              "    <tr>\n",
              "      <th>25%</th>\n",
              "      <td>36.00000</td>\n",
              "      <td>0.440000</td>\n",
              "      <td>1.600000</td>\n",
              "      <td>88.000000</td>\n",
              "      <td>0.880000</td>\n",
              "      <td>93.000000</td>\n",
              "      <td>NaN</td>\n",
              "    </tr>\n",
              "    <tr>\n",
              "      <th>50%</th>\n",
              "      <td>54.00000</td>\n",
              "      <td>1.400000</td>\n",
              "      <td>2.000000</td>\n",
              "      <td>104.000000</td>\n",
              "      <td>0.980000</td>\n",
              "      <td>107.000000</td>\n",
              "      <td>NaN</td>\n",
              "    </tr>\n",
              "    <tr>\n",
              "      <th>75%</th>\n",
              "      <td>67.00000</td>\n",
              "      <td>2.600000</td>\n",
              "      <td>2.400000</td>\n",
              "      <td>125.000000</td>\n",
              "      <td>1.080000</td>\n",
              "      <td>124.000000</td>\n",
              "      <td>NaN</td>\n",
              "    </tr>\n",
              "    <tr>\n",
              "      <th>max</th>\n",
              "      <td>455.00000</td>\n",
              "      <td>478.000000</td>\n",
              "      <td>10.600000</td>\n",
              "      <td>430.000000</td>\n",
              "      <td>2.120000</td>\n",
              "      <td>395.000000</td>\n",
              "      <td>NaN</td>\n",
              "    </tr>\n",
              "  </tbody>\n",
              "</table>\n",
              "</div>\n",
              "      <button class=\"colab-df-convert\" onclick=\"convertToInteractive('df-910b8131-8d73-43a9-ba52-0b39a111ae0d')\"\n",
              "              title=\"Convert this dataframe to an interactive table.\"\n",
              "              style=\"display:none;\">\n",
              "        \n",
              "  <svg xmlns=\"http://www.w3.org/2000/svg\" height=\"24px\"viewBox=\"0 0 24 24\"\n",
              "       width=\"24px\">\n",
              "    <path d=\"M0 0h24v24H0V0z\" fill=\"none\"/>\n",
              "    <path d=\"M18.56 5.44l.94 2.06.94-2.06 2.06-.94-2.06-.94-.94-2.06-.94 2.06-2.06.94zm-11 1L8.5 8.5l.94-2.06 2.06-.94-2.06-.94L8.5 2.5l-.94 2.06-2.06.94zm10 10l.94 2.06.94-2.06 2.06-.94-2.06-.94-.94-2.06-.94 2.06-2.06.94z\"/><path d=\"M17.41 7.96l-1.37-1.37c-.4-.4-.92-.59-1.43-.59-.52 0-1.04.2-1.43.59L10.3 9.45l-7.72 7.72c-.78.78-.78 2.05 0 2.83L4 21.41c.39.39.9.59 1.41.59.51 0 1.02-.2 1.41-.59l7.78-7.78 2.81-2.81c.8-.78.8-2.07 0-2.86zM5.41 20L4 18.59l7.72-7.72 1.47 1.35L5.41 20z\"/>\n",
              "  </svg>\n",
              "      </button>\n",
              "      \n",
              "  <style>\n",
              "    .colab-df-container {\n",
              "      display:flex;\n",
              "      flex-wrap:wrap;\n",
              "      gap: 12px;\n",
              "    }\n",
              "\n",
              "    .colab-df-convert {\n",
              "      background-color: #E8F0FE;\n",
              "      border: none;\n",
              "      border-radius: 50%;\n",
              "      cursor: pointer;\n",
              "      display: none;\n",
              "      fill: #1967D2;\n",
              "      height: 32px;\n",
              "      padding: 0 0 0 0;\n",
              "      width: 32px;\n",
              "    }\n",
              "\n",
              "    .colab-df-convert:hover {\n",
              "      background-color: #E2EBFA;\n",
              "      box-shadow: 0px 1px 2px rgba(60, 64, 67, 0.3), 0px 1px 3px 1px rgba(60, 64, 67, 0.15);\n",
              "      fill: #174EA6;\n",
              "    }\n",
              "\n",
              "    [theme=dark] .colab-df-convert {\n",
              "      background-color: #3B4455;\n",
              "      fill: #D2E3FC;\n",
              "    }\n",
              "\n",
              "    [theme=dark] .colab-df-convert:hover {\n",
              "      background-color: #434B5C;\n",
              "      box-shadow: 0px 1px 3px 1px rgba(0, 0, 0, 0.15);\n",
              "      filter: drop-shadow(0px 1px 2px rgba(0, 0, 0, 0.3));\n",
              "      fill: #FFFFFF;\n",
              "    }\n",
              "  </style>\n",
              "\n",
              "      <script>\n",
              "        const buttonEl =\n",
              "          document.querySelector('#df-910b8131-8d73-43a9-ba52-0b39a111ae0d button.colab-df-convert');\n",
              "        buttonEl.style.display =\n",
              "          google.colab.kernel.accessAllowed ? 'block' : 'none';\n",
              "\n",
              "        async function convertToInteractive(key) {\n",
              "          const element = document.querySelector('#df-910b8131-8d73-43a9-ba52-0b39a111ae0d');\n",
              "          const dataTable =\n",
              "            await google.colab.kernel.invokeFunction('convertToInteractive',\n",
              "                                                     [key], {});\n",
              "          if (!dataTable) return;\n",
              "\n",
              "          const docLinkHtml = 'Like what you see? Visit the ' +\n",
              "            '<a target=\"_blank\" href=https://colab.research.google.com/notebooks/data_table.ipynb>data table notebook</a>'\n",
              "            + ' to learn more about interactive tables.';\n",
              "          element.innerHTML = '';\n",
              "          dataTable['output_type'] = 'display_data';\n",
              "          await google.colab.output.renderOutput(dataTable, element);\n",
              "          const docLink = document.createElement('div');\n",
              "          docLink.innerHTML = docLinkHtml;\n",
              "          element.appendChild(docLink);\n",
              "        }\n",
              "      </script>\n",
              "    </div>\n",
              "  </div>\n",
              "  "
            ]
          },
          "metadata": {},
          "execution_count": 273
        }
      ]
    },
    {
      "cell_type": "code",
      "metadata": {
        "id": "OmmyXMR8Z_HK",
        "colab": {
          "base_uri": "https://localhost:8080/",
          "height": 265
        },
        "outputId": "72759cbc-fffc-4141-bdfd-fd27a02f5278"
      },
      "source": [
        "# Diagrama de cajas y bigotes para atributos numéricos\n",
        "# Permite identificar la existencia de datos atípicos\n",
        "\n",
        "plt.boxplot((data['age'],data['TT4'],data['T4U'],data['FTI']))\n",
        "plt.show()\n"
      ],
      "execution_count": null,
      "outputs": [
        {
          "output_type": "display_data",
          "data": {
            "text/plain": [
              "<Figure size 432x288 with 1 Axes>"
            ],
            "image/png": "[encoded data removed]"
          },
          "metadata": {
            "needs_background": "light"
          }
        }
      ]
    },
    {
      "cell_type": "code",
      "metadata": {
        "id": "k35vMNxmZ_HL",
        "colab": {
          "base_uri": "https://localhost:8080/",
          "height": 205
        },
        "outputId": "f516094e-a2a7-4175-afe8-458df839d5bf"
      },
      "source": [
        "#Medida de centralidad para atributos categóricos:\n",
        "data.mode()"
      ],
      "execution_count": null,
      "outputs": [
        {
          "output_type": "execute_result",
          "data": {
            "text/plain": [
              "    age  sex on_thyroxine query_on_thyroxine on_antithyroid_medication sick  \\\n",
              "0  59.0    F            f                  f                         f    f   \n",
              "1   NaN  NaN          NaN                NaN                       NaN  NaN   \n",
              "\n",
              "  pregnant thyroid_surgery I131_treatment query_hypothyroid  ... TT4_measured  \\\n",
              "0        f               f              f                 f  ...            t   \n",
              "1      NaN             NaN            NaN               NaN  ...          NaN   \n",
              "\n",
              "     TT4 T4U_measured   T4U FTI_measured    FTI TBG_measured  TBG  \\\n",
              "0  101.0            t  0.99            t  100.0            f  NaN   \n",
              "1    NaN          NaN   NaN          NaN  107.0          NaN  NaN   \n",
              "\n",
              "  referral_source     Class  \n",
              "0           other  negative  \n",
              "1             NaN       NaN  \n",
              "\n",
              "[2 rows x 30 columns]"
            ],
            "text/html": [
              "\n",
              "  <div id=\"df-2b49bf8b-d2b1-484a-85ce-3489642381df\">\n",
              "    <div class=\"colab-df-container\">\n",
              "      <div>\n",
              "<style scoped>\n",
              "    .dataframe tbody tr th:only-of-type {\n",
              "        vertical-align: middle;\n",
              "    }\n",
              "\n",
              "    .dataframe tbody tr th {\n",
              "        vertical-align: top;\n",
              "    }\n",
              "\n",
              "    .dataframe thead th {\n",
              "        text-align: right;\n",
              "    }\n",
              "</style>\n",
              "<table border=\"1\" class=\"dataframe\">\n",
              "  <thead>\n",
              "    <tr style=\"text-align: right;\">\n",
              "      <th></th>\n",
              "      <th>age</th>\n",
              "      <th>sex</th>\n",
              "      <th>on_thyroxine</th>\n",
              "      <th>query_on_thyroxine</th>\n",
              "      <th>on_antithyroid_medication</th>\n",
              "      <th>sick</th>\n",
              "      <th>pregnant</th>\n",
              "      <th>thyroid_surgery</th>\n",
              "      <th>I131_treatment</th>\n",
              "      <th>query_hypothyroid</th>\n",
              "      <th>...</th>\n",
              "      <th>TT4_measured</th>\n",
              "      <th>TT4</th>\n",
              "      <th>T4U_measured</th>\n",
              "      <th>T4U</th>\n",
              "      <th>FTI_measured</th>\n",
              "      <th>FTI</th>\n",
              "      <th>TBG_measured</th>\n",
              "      <th>TBG</th>\n",
              "      <th>referral_source</th>\n",
              "      <th>Class</th>\n",
              "    </tr>\n",
              "  </thead>\n",
              "  <tbody>\n",
              "    <tr>\n",
              "      <th>0</th>\n",
              "      <td>59.0</td>\n",
              "      <td>F</td>\n",
              "      <td>f</td>\n",
              "      <td>f</td>\n",
              "      <td>f</td>\n",
              "      <td>f</td>\n",
              "      <td>f</td>\n",
              "      <td>f</td>\n",
              "      <td>f</td>\n",
              "      <td>f</td>\n",
              "      <td>...</td>\n",
              "      <td>t</td>\n",
              "      <td>101.0</td>\n",
              "      <td>t</td>\n",
              "      <td>0.99</td>\n",
              "      <td>t</td>\n",
              "      <td>100.0</td>\n",
              "      <td>f</td>\n",
              "      <td>NaN</td>\n",
              "      <td>other</td>\n",
              "      <td>negative</td>\n",
              "    </tr>\n",
              "    <tr>\n",
              "      <th>1</th>\n",
              "      <td>NaN</td>\n",
              "      <td>NaN</td>\n",
              "      <td>NaN</td>\n",
              "      <td>NaN</td>\n",
              "      <td>NaN</td>\n",
              "      <td>NaN</td>\n",
              "      <td>NaN</td>\n",
              "      <td>NaN</td>\n",
              "      <td>NaN</td>\n",
              "      <td>NaN</td>\n",
              "      <td>...</td>\n",
              "      <td>NaN</td>\n",
              "      <td>NaN</td>\n",
              "      <td>NaN</td>\n",
              "      <td>NaN</td>\n",
              "      <td>NaN</td>\n",
              "      <td>107.0</td>\n",
              "      <td>NaN</td>\n",
              "      <td>NaN</td>\n",
              "      <td>NaN</td>\n",
              "      <td>NaN</td>\n",
              "    </tr>\n",
              "  </tbody>\n",
              "</table>\n",
              "<p>2 rows × 30 columns</p>\n",
              "</div>\n",
              "      <button class=\"colab-df-convert\" onclick=\"convertToInteractive('df-2b49bf8b-d2b1-484a-85ce-3489642381df')\"\n",
              "              title=\"Convert this dataframe to an interactive table.\"\n",
              "              style=\"display:none;\">\n",
              "        \n",
              "  <svg xmlns=\"http://www.w3.org/2000/svg\" height=\"24px\"viewBox=\"0 0 24 24\"\n",
              "       width=\"24px\">\n",
              "    <path d=\"M0 0h24v24H0V0z\" fill=\"none\"/>\n",
              "    <path d=\"M18.56 5.44l.94 2.06.94-2.06 2.06-.94-2.06-.94-.94-2.06-.94 2.06-2.06.94zm-11 1L8.5 8.5l.94-2.06 2.06-.94-2.06-.94L8.5 2.5l-.94 2.06-2.06.94zm10 10l.94 2.06.94-2.06 2.06-.94-2.06-.94-.94-2.06-.94 2.06-2.06.94z\"/><path d=\"M17.41 7.96l-1.37-1.37c-.4-.4-.92-.59-1.43-.59-.52 0-1.04.2-1.43.59L10.3 9.45l-7.72 7.72c-.78.78-.78 2.05 0 2.83L4 21.41c.39.39.9.59 1.41.59.51 0 1.02-.2 1.41-.59l7.78-7.78 2.81-2.81c.8-.78.8-2.07 0-2.86zM5.41 20L4 18.59l7.72-7.72 1.47 1.35L5.41 20z\"/>\n",
              "  </svg>\n",
              "      </button>\n",
              "      \n",
              "  <style>\n",
              "    .colab-df-container {\n",
              "      display:flex;\n",
              "      flex-wrap:wrap;\n",
              "      gap: 12px;\n",
              "    }\n",
              "\n",
              "    .colab-df-convert {\n",
              "      background-color: #E8F0FE;\n",
              "      border: none;\n",
              "      border-radius: 50%;\n",
              "      cursor: pointer;\n",
              "      display: none;\n",
              "      fill: #1967D2;\n",
              "      height: 32px;\n",
              "      padding: 0 0 0 0;\n",
              "      width: 32px;\n",
              "    }\n",
              "\n",
              "    .colab-df-convert:hover {\n",
              "      background-color: #E2EBFA;\n",
              "      box-shadow: 0px 1px 2px rgba(60, 64, 67, 0.3), 0px 1px 3px 1px rgba(60, 64, 67, 0.15);\n",
              "      fill: #174EA6;\n",
              "    }\n",
              "\n",
              "    [theme=dark] .colab-df-convert {\n",
              "      background-color: #3B4455;\n",
              "      fill: #D2E3FC;\n",
              "    }\n",
              "\n",
              "    [theme=dark] .colab-df-convert:hover {\n",
              "      background-color: #434B5C;\n",
              "      box-shadow: 0px 1px 3px 1px rgba(0, 0, 0, 0.15);\n",
              "      filter: drop-shadow(0px 1px 2px rgba(0, 0, 0, 0.3));\n",
              "      fill: #FFFFFF;\n",
              "    }\n",
              "  </style>\n",
              "\n",
              "      <script>\n",
              "        const buttonEl =\n",
              "          document.querySelector('#df-2b49bf8b-d2b1-484a-85ce-3489642381df button.colab-df-convert');\n",
              "        buttonEl.style.display =\n",
              "          google.colab.kernel.accessAllowed ? 'block' : 'none';\n",
              "\n",
              "        async function convertToInteractive(key) {\n",
              "          const element = document.querySelector('#df-2b49bf8b-d2b1-484a-85ce-3489642381df');\n",
              "          const dataTable =\n",
              "            await google.colab.kernel.invokeFunction('convertToInteractive',\n",
              "                                                     [key], {});\n",
              "          if (!dataTable) return;\n",
              "\n",
              "          const docLinkHtml = 'Like what you see? Visit the ' +\n",
              "            '<a target=\"_blank\" href=https://colab.research.google.com/notebooks/data_table.ipynb>data table notebook</a>'\n",
              "            + ' to learn more about interactive tables.';\n",
              "          element.innerHTML = '';\n",
              "          dataTable['output_type'] = 'display_data';\n",
              "          await google.colab.output.renderOutput(dataTable, element);\n",
              "          const docLink = document.createElement('div');\n",
              "          docLink.innerHTML = docLinkHtml;\n",
              "          element.appendChild(docLink);\n",
              "        }\n",
              "      </script>\n",
              "    </div>\n",
              "  </div>\n",
              "  "
            ]
          },
          "metadata": {},
          "execution_count": 275
        }
      ]
    },
    {
      "cell_type": "code",
      "metadata": {
        "id": "R8GZWvmIZ_HL",
        "colab": {
          "base_uri": "https://localhost:8080/",
          "height": 269
        },
        "outputId": "7391d078-364e-4096-9556-0fe11c5e448e"
      },
      "source": [
        "# Correlación entre los atributos de entrada numéricos\n",
        "# Permite detectar si hay atributos redundantes (correlación mayor a 0.85 o menor a -0.85)\n",
        "data.corr()"
      ],
      "execution_count": null,
      "outputs": [
        {
          "output_type": "execute_result",
          "data": {
            "text/plain": [
              "          age       TSH        T3       TT4       T4U       FTI  TBG\n",
              "age  1.000000 -0.059776 -0.244702 -0.052111 -0.163357  0.037623  NaN\n",
              "TSH -0.059776  1.000000 -0.160890 -0.254791  0.067705 -0.291188  NaN\n",
              "T3  -0.244702 -0.160890  1.000000  0.563901  0.463434  0.351013  NaN\n",
              "TT4 -0.052111 -0.254791  0.563901  1.000000  0.434248  0.795206  NaN\n",
              "T4U -0.163357  0.067705  0.463434  0.434248  1.000000 -0.173056  NaN\n",
              "FTI  0.037623 -0.291188  0.351013  0.795206 -0.173056  1.000000  NaN\n",
              "TBG       NaN       NaN       NaN       NaN       NaN       NaN  NaN"
            ],
            "text/html": [
              "\n",
              "  <div id=\"df-b429f442-f34a-4ab9-9670-2e801d307b08\">\n",
              "    <div class=\"colab-df-container\">\n",
              "      <div>\n",
              "<style scoped>\n",
              "    .dataframe tbody tr th:only-of-type {\n",
              "        vertical-align: middle;\n",
              "    }\n",
              "\n",
              "    .dataframe tbody tr th {\n",
              "        vertical-align: top;\n",
              "    }\n",
              "\n",
              "    .dataframe thead th {\n",
              "        text-align: right;\n",
              "    }\n",
              "</style>\n",
              "<table border=\"1\" class=\"dataframe\">\n",
              "  <thead>\n",
              "    <tr style=\"text-align: right;\">\n",
              "      <th></th>\n",
              "      <th>age</th>\n",
              "      <th>TSH</th>\n",
              "      <th>T3</th>\n",
              "      <th>TT4</th>\n",
              "      <th>T4U</th>\n",
              "      <th>FTI</th>\n",
              "      <th>TBG</th>\n",
              "    </tr>\n",
              "  </thead>\n",
              "  <tbody>\n",
              "    <tr>\n",
              "      <th>age</th>\n",
              "      <td>1.000000</td>\n",
              "      <td>-0.059776</td>\n",
              "      <td>-0.244702</td>\n",
              "      <td>-0.052111</td>\n",
              "      <td>-0.163357</td>\n",
              "      <td>0.037623</td>\n",
              "      <td>NaN</td>\n",
              "    </tr>\n",
              "    <tr>\n",
              "      <th>TSH</th>\n",
              "      <td>-0.059776</td>\n",
              "      <td>1.000000</td>\n",
              "      <td>-0.160890</td>\n",
              "      <td>-0.254791</td>\n",
              "      <td>0.067705</td>\n",
              "      <td>-0.291188</td>\n",
              "      <td>NaN</td>\n",
              "    </tr>\n",
              "    <tr>\n",
              "      <th>T3</th>\n",
              "      <td>-0.244702</td>\n",
              "      <td>-0.160890</td>\n",
              "      <td>1.000000</td>\n",
              "      <td>0.563901</td>\n",
              "      <td>0.463434</td>\n",
              "      <td>0.351013</td>\n",
              "      <td>NaN</td>\n",
              "    </tr>\n",
              "    <tr>\n",
              "      <th>TT4</th>\n",
              "      <td>-0.052111</td>\n",
              "      <td>-0.254791</td>\n",
              "      <td>0.563901</td>\n",
              "      <td>1.000000</td>\n",
              "      <td>0.434248</td>\n",
              "      <td>0.795206</td>\n",
              "      <td>NaN</td>\n",
              "    </tr>\n",
              "    <tr>\n",
              "      <th>T4U</th>\n",
              "      <td>-0.163357</td>\n",
              "      <td>0.067705</td>\n",
              "      <td>0.463434</td>\n",
              "      <td>0.434248</td>\n",
              "      <td>1.000000</td>\n",
              "      <td>-0.173056</td>\n",
              "      <td>NaN</td>\n",
              "    </tr>\n",
              "    <tr>\n",
              "      <th>FTI</th>\n",
              "      <td>0.037623</td>\n",
              "      <td>-0.291188</td>\n",
              "      <td>0.351013</td>\n",
              "      <td>0.795206</td>\n",
              "      <td>-0.173056</td>\n",
              "      <td>1.000000</td>\n",
              "      <td>NaN</td>\n",
              "    </tr>\n",
              "    <tr>\n",
              "      <th>TBG</th>\n",
              "      <td>NaN</td>\n",
              "      <td>NaN</td>\n",
              "      <td>NaN</td>\n",
              "      <td>NaN</td>\n",
              "      <td>NaN</td>\n",
              "      <td>NaN</td>\n",
              "      <td>NaN</td>\n",
              "    </tr>\n",
              "  </tbody>\n",
              "</table>\n",
              "</div>\n",
              "      <button class=\"colab-df-convert\" onclick=\"convertToInteractive('df-b429f442-f34a-4ab9-9670-2e801d307b08')\"\n",
              "              title=\"Convert this dataframe to an interactive table.\"\n",
              "              style=\"display:none;\">\n",
              "        \n",
              "  <svg xmlns=\"http://www.w3.org/2000/svg\" height=\"24px\"viewBox=\"0 0 24 24\"\n",
              "       width=\"24px\">\n",
              "    <path d=\"M0 0h24v24H0V0z\" fill=\"none\"/>\n",
              "    <path d=\"M18.56 5.44l.94 2.06.94-2.06 2.06-.94-2.06-.94-.94-2.06-.94 2.06-2.06.94zm-11 1L8.5 8.5l.94-2.06 2.06-.94-2.06-.94L8.5 2.5l-.94 2.06-2.06.94zm10 10l.94 2.06.94-2.06 2.06-.94-2.06-.94-.94-2.06-.94 2.06-2.06.94z\"/><path d=\"M17.41 7.96l-1.37-1.37c-.4-.4-.92-.59-1.43-.59-.52 0-1.04.2-1.43.59L10.3 9.45l-7.72 7.72c-.78.78-.78 2.05 0 2.83L4 21.41c.39.39.9.59 1.41.59.51 0 1.02-.2 1.41-.59l7.78-7.78 2.81-2.81c.8-.78.8-2.07 0-2.86zM5.41 20L4 18.59l7.72-7.72 1.47 1.35L5.41 20z\"/>\n",
              "  </svg>\n",
              "      </button>\n",
              "      \n",
              "  <style>\n",
              "    .colab-df-container {\n",
              "      display:flex;\n",
              "      flex-wrap:wrap;\n",
              "      gap: 12px;\n",
              "    }\n",
              "\n",
              "    .colab-df-convert {\n",
              "      background-color: #E8F0FE;\n",
              "      border: none;\n",
              "      border-radius: 50%;\n",
              "      cursor: pointer;\n",
              "      display: none;\n",
              "      fill: #1967D2;\n",
              "      height: 32px;\n",
              "      padding: 0 0 0 0;\n",
              "      width: 32px;\n",
              "    }\n",
              "\n",
              "    .colab-df-convert:hover {\n",
              "      background-color: #E2EBFA;\n",
              "      box-shadow: 0px 1px 2px rgba(60, 64, 67, 0.3), 0px 1px 3px 1px rgba(60, 64, 67, 0.15);\n",
              "      fill: #174EA6;\n",
              "    }\n",
              "\n",
              "    [theme=dark] .colab-df-convert {\n",
              "      background-color: #3B4455;\n",
              "      fill: #D2E3FC;\n",
              "    }\n",
              "\n",
              "    [theme=dark] .colab-df-convert:hover {\n",
              "      background-color: #434B5C;\n",
              "      box-shadow: 0px 1px 3px 1px rgba(0, 0, 0, 0.15);\n",
              "      filter: drop-shadow(0px 1px 2px rgba(0, 0, 0, 0.3));\n",
              "      fill: #FFFFFF;\n",
              "    }\n",
              "  </style>\n",
              "\n",
              "      <script>\n",
              "        const buttonEl =\n",
              "          document.querySelector('#df-b429f442-f34a-4ab9-9670-2e801d307b08 button.colab-df-convert');\n",
              "        buttonEl.style.display =\n",
              "          google.colab.kernel.accessAllowed ? 'block' : 'none';\n",
              "\n",
              "        async function convertToInteractive(key) {\n",
              "          const element = document.querySelector('#df-b429f442-f34a-4ab9-9670-2e801d307b08');\n",
              "          const dataTable =\n",
              "            await google.colab.kernel.invokeFunction('convertToInteractive',\n",
              "                                                     [key], {});\n",
              "          if (!dataTable) return;\n",
              "\n",
              "          const docLinkHtml = 'Like what you see? Visit the ' +\n",
              "            '<a target=\"_blank\" href=https://colab.research.google.com/notebooks/data_table.ipynb>data table notebook</a>'\n",
              "            + ' to learn more about interactive tables.';\n",
              "          element.innerHTML = '';\n",
              "          dataTable['output_type'] = 'display_data';\n",
              "          await google.colab.output.renderOutput(dataTable, element);\n",
              "          const docLink = document.createElement('div');\n",
              "          docLink.innerHTML = docLinkHtml;\n",
              "          element.appendChild(docLink);\n",
              "        }\n",
              "      </script>\n",
              "    </div>\n",
              "  </div>\n",
              "  "
            ]
          },
          "metadata": {},
          "execution_count": 276
        }
      ]
    },
    {
      "cell_type": "code",
      "metadata": {
        "id": "wc6W_v3yZ_HM",
        "colab": {
          "base_uri": "https://localhost:8080/"
        },
        "outputId": "3e6eb17d-38b8-4a50-f859-69a397ca9ba4"
      },
      "source": [
        "# Cual es el máximo de datos faltantes en un mismo registro?\n",
        "# Si hay registros a los que les faltan muchos valores, es mejor eliminarlos.\n",
        "max(data.isnull().sum(axis=1))"
      ],
      "execution_count": null,
      "outputs": [
        {
          "output_type": "execute_result",
          "data": {
            "text/plain": [
              "7"
            ]
          },
          "metadata": {},
          "execution_count": 277
        }
      ]
    },
    {
      "cell_type": "code",
      "metadata": {
        "id": "NcSAkgvnZ_HN",
        "colab": {
          "base_uri": "https://localhost:8080/"
        },
        "outputId": "3bcbee10-338b-445f-9ce1-25f2f127591f"
      },
      "source": [
        "#Cuantos datos faltantes hay por cada atributo?\n",
        "data.isnull().sum()"
      ],
      "execution_count": null,
      "outputs": [
        {
          "output_type": "execute_result",
          "data": {
            "text/plain": [
              "age                             1\n",
              "sex                           110\n",
              "on_thyroxine                    0\n",
              "query_on_thyroxine              0\n",
              "on_antithyroid_medication       0\n",
              "sick                            0\n",
              "pregnant                        0\n",
              "thyroid_surgery                 0\n",
              "I131_treatment                  0\n",
              "query_hypothyroid               0\n",
              "query_hyperthyroid              0\n",
              "lithium                         0\n",
              "goitre                          0\n",
              "tumor                           0\n",
              "hypopituitary                   0\n",
              "psych                           0\n",
              "TSH_measured                    0\n",
              "TSH                           284\n",
              "T3_measured                     0\n",
              "T3                            585\n",
              "TT4_measured                    0\n",
              "TT4                           184\n",
              "T4U_measured                    0\n",
              "T4U                           297\n",
              "FTI_measured                    0\n",
              "FTI                           295\n",
              "TBG_measured                    0\n",
              "TBG                          2800\n",
              "referral_source                 0\n",
              "Class                           0\n",
              "dtype: int64"
            ]
          },
          "metadata": {},
          "execution_count": 278
        }
      ]
    },
    {
      "cell_type": "markdown",
      "source": [
        " Eliminamos las columnas TBG y 'TBG_Measured' ya que no presentan información en el df, \n",
        "debido a que tiene el mismo valor (f) en todos los registros.\n",
        " Es decir, a ninguno de los pacientes se les realizo esta prueba\n",
        " por lo tanto no entregará información valiosa para entrenar nuestro modelo de clasificación.\n",
        "\n",
        "Se deciden eliminar T3 y T3 measured, puesto que es la segunda variable con mas faltantes (no presenta informacion para el 20% de los registros). Por otro lado, se investigó que la medicion de niveles de T3 no es recomendado para el diagnostico de hipotiroidismo (ver links debajo)\n",
        "  \n",
        " https://www.medicalnewstoday.com/articles/t3-levels\n",
        "\n",
        " https://www.msdmanuals.com/professional/endocrine-and-metabolic-disorders/thyroid-disorders/hypothyroidism"
      ],
      "metadata": {
        "id": "Hc7ZS9e-myu3"
      }
    },
    {
      "cell_type": "code",
      "source": [
        "# Eliminacion de columnas\n",
        "data.drop(columns = ['TBG_measured','TBG','T3','T3_measured'], inplace = True)\n",
        "\n",
        "data.head()"
      ],
      "metadata": {
        "colab": {
          "base_uri": "https://localhost:8080/",
          "height": 299
        },
        "id": "cLbSVBqqGSdi",
        "outputId": "045d30cb-42af-49fa-eb3a-395de14606d2"
      },
      "execution_count": null,
      "outputs": [
        {
          "output_type": "execute_result",
          "data": {
            "text/plain": [
              "    age sex on_thyroxine query_on_thyroxine on_antithyroid_medication sick  \\\n",
              "0  41.0   F            f                  f                         f    f   \n",
              "1  23.0   F            f                  f                         f    f   \n",
              "2  46.0   M            f                  f                         f    f   \n",
              "3  70.0   F            t                  f                         f    f   \n",
              "4  70.0   F            f                  f                         f    f   \n",
              "\n",
              "  pregnant thyroid_surgery I131_treatment query_hypothyroid  ... TSH_measured  \\\n",
              "0        f               f              f                 f  ...            t   \n",
              "1        f               f              f                 f  ...            t   \n",
              "2        f               f              f                 f  ...            t   \n",
              "3        f               f              f                 f  ...            t   \n",
              "4        f               f              f                 f  ...            t   \n",
              "\n",
              "    TSH TT4_measured    TT4 T4U_measured   T4U FTI_measured    FTI  \\\n",
              "0  1.30            t  125.0            t  1.14            t  109.0   \n",
              "1  4.10            t  102.0            f   NaN            f    NaN   \n",
              "2  0.98            t  109.0            t  0.91            t  120.0   \n",
              "3  0.16            t  175.0            f   NaN            f    NaN   \n",
              "4  0.72            t   61.0            t  0.87            t   70.0   \n",
              "\n",
              "  referral_source     Class  \n",
              "0            SVHC  negative  \n",
              "1           other  negative  \n",
              "2           other  negative  \n",
              "3           other  negative  \n",
              "4             SVI  negative  \n",
              "\n",
              "[5 rows x 26 columns]"
            ],
            "text/html": [
              "\n",
              "  <div id=\"df-5e422990-18de-42bc-ad90-eecb2a4c9213\">\n",
              "    <div class=\"colab-df-container\">\n",
              "      <div>\n",
              "<style scoped>\n",
              "    .dataframe tbody tr th:only-of-type {\n",
              "        vertical-align: middle;\n",
              "    }\n",
              "\n",
              "    .dataframe tbody tr th {\n",
              "        vertical-align: top;\n",
              "    }\n",
              "\n",
              "    .dataframe thead th {\n",
              "        text-align: right;\n",
              "    }\n",
              "</style>\n",
              "<table border=\"1\" class=\"dataframe\">\n",
              "  <thead>\n",
              "    <tr style=\"text-align: right;\">\n",
              "      <th></th>\n",
              "      <th>age</th>\n",
              "      <th>sex</th>\n",
              "      <th>on_thyroxine</th>\n",
              "      <th>query_on_thyroxine</th>\n",
              "      <th>on_antithyroid_medication</th>\n",
              "      <th>sick</th>\n",
              "      <th>pregnant</th>\n",
              "      <th>thyroid_surgery</th>\n",
              "      <th>I131_treatment</th>\n",
              "      <th>query_hypothyroid</th>\n",
              "      <th>...</th>\n",
              "      <th>TSH_measured</th>\n",
              "      <th>TSH</th>\n",
              "      <th>TT4_measured</th>\n",
              "      <th>TT4</th>\n",
              "      <th>T4U_measured</th>\n",
              "      <th>T4U</th>\n",
              "      <th>FTI_measured</th>\n",
              "      <th>FTI</th>\n",
              "      <th>referral_source</th>\n",
              "      <th>Class</th>\n",
              "    </tr>\n",
              "  </thead>\n",
              "  <tbody>\n",
              "    <tr>\n",
              "      <th>0</th>\n",
              "      <td>41.0</td>\n",
              "      <td>F</td>\n",
              "      <td>f</td>\n",
              "      <td>f</td>\n",
              "      <td>f</td>\n",
              "      <td>f</td>\n",
              "      <td>f</td>\n",
              "      <td>f</td>\n",
              "      <td>f</td>\n",
              "      <td>f</td>\n",
              "      <td>...</td>\n",
              "      <td>t</td>\n",
              "      <td>1.30</td>\n",
              "      <td>t</td>\n",
              "      <td>125.0</td>\n",
              "      <td>t</td>\n",
              "      <td>1.14</td>\n",
              "      <td>t</td>\n",
              "      <td>109.0</td>\n",
              "      <td>SVHC</td>\n",
              "      <td>negative</td>\n",
              "    </tr>\n",
              "    <tr>\n",
              "      <th>1</th>\n",
              "      <td>23.0</td>\n",
              "      <td>F</td>\n",
              "      <td>f</td>\n",
              "      <td>f</td>\n",
              "      <td>f</td>\n",
              "      <td>f</td>\n",
              "      <td>f</td>\n",
              "      <td>f</td>\n",
              "      <td>f</td>\n",
              "      <td>f</td>\n",
              "      <td>...</td>\n",
              "      <td>t</td>\n",
              "      <td>4.10</td>\n",
              "      <td>t</td>\n",
              "      <td>102.0</td>\n",
              "      <td>f</td>\n",
              "      <td>NaN</td>\n",
              "      <td>f</td>\n",
              "      <td>NaN</td>\n",
              "      <td>other</td>\n",
              "      <td>negative</td>\n",
              "    </tr>\n",
              "    <tr>\n",
              "      <th>2</th>\n",
              "      <td>46.0</td>\n",
              "      <td>M</td>\n",
              "      <td>f</td>\n",
              "      <td>f</td>\n",
              "      <td>f</td>\n",
              "      <td>f</td>\n",
              "      <td>f</td>\n",
              "      <td>f</td>\n",
              "      <td>f</td>\n",
              "      <td>f</td>\n",
              "      <td>...</td>\n",
              "      <td>t</td>\n",
              "      <td>0.98</td>\n",
              "      <td>t</td>\n",
              "      <td>109.0</td>\n",
              "      <td>t</td>\n",
              "      <td>0.91</td>\n",
              "      <td>t</td>\n",
              "      <td>120.0</td>\n",
              "      <td>other</td>\n",
              "      <td>negative</td>\n",
              "    </tr>\n",
              "    <tr>\n",
              "      <th>3</th>\n",
              "      <td>70.0</td>\n",
              "      <td>F</td>\n",
              "      <td>t</td>\n",
              "      <td>f</td>\n",
              "      <td>f</td>\n",
              "      <td>f</td>\n",
              "      <td>f</td>\n",
              "      <td>f</td>\n",
              "      <td>f</td>\n",
              "      <td>f</td>\n",
              "      <td>...</td>\n",
              "      <td>t</td>\n",
              "      <td>0.16</td>\n",
              "      <td>t</td>\n",
              "      <td>175.0</td>\n",
              "      <td>f</td>\n",
              "      <td>NaN</td>\n",
              "      <td>f</td>\n",
              "      <td>NaN</td>\n",
              "      <td>other</td>\n",
              "      <td>negative</td>\n",
              "    </tr>\n",
              "    <tr>\n",
              "      <th>4</th>\n",
              "      <td>70.0</td>\n",
              "      <td>F</td>\n",
              "      <td>f</td>\n",
              "      <td>f</td>\n",
              "      <td>f</td>\n",
              "      <td>f</td>\n",
              "      <td>f</td>\n",
              "      <td>f</td>\n",
              "      <td>f</td>\n",
              "      <td>f</td>\n",
              "      <td>...</td>\n",
              "      <td>t</td>\n",
              "      <td>0.72</td>\n",
              "      <td>t</td>\n",
              "      <td>61.0</td>\n",
              "      <td>t</td>\n",
              "      <td>0.87</td>\n",
              "      <td>t</td>\n",
              "      <td>70.0</td>\n",
              "      <td>SVI</td>\n",
              "      <td>negative</td>\n",
              "    </tr>\n",
              "  </tbody>\n",
              "</table>\n",
              "<p>5 rows × 26 columns</p>\n",
              "</div>\n",
              "      <button class=\"colab-df-convert\" onclick=\"convertToInteractive('df-5e422990-18de-42bc-ad90-eecb2a4c9213')\"\n",
              "              title=\"Convert this dataframe to an interactive table.\"\n",
              "              style=\"display:none;\">\n",
              "        \n",
              "  <svg xmlns=\"http://www.w3.org/2000/svg\" height=\"24px\"viewBox=\"0 0 24 24\"\n",
              "       width=\"24px\">\n",
              "    <path d=\"M0 0h24v24H0V0z\" fill=\"none\"/>\n",
              "    <path d=\"M18.56 5.44l.94 2.06.94-2.06 2.06-.94-2.06-.94-.94-2.06-.94 2.06-2.06.94zm-11 1L8.5 8.5l.94-2.06 2.06-.94-2.06-.94L8.5 2.5l-.94 2.06-2.06.94zm10 10l.94 2.06.94-2.06 2.06-.94-2.06-.94-.94-2.06-.94 2.06-2.06.94z\"/><path d=\"M17.41 7.96l-1.37-1.37c-.4-.4-.92-.59-1.43-.59-.52 0-1.04.2-1.43.59L10.3 9.45l-7.72 7.72c-.78.78-.78 2.05 0 2.83L4 21.41c.39.39.9.59 1.41.59.51 0 1.02-.2 1.41-.59l7.78-7.78 2.81-2.81c.8-.78.8-2.07 0-2.86zM5.41 20L4 18.59l7.72-7.72 1.47 1.35L5.41 20z\"/>\n",
              "  </svg>\n",
              "      </button>\n",
              "      \n",
              "  <style>\n",
              "    .colab-df-container {\n",
              "      display:flex;\n",
              "      flex-wrap:wrap;\n",
              "      gap: 12px;\n",
              "    }\n",
              "\n",
              "    .colab-df-convert {\n",
              "      background-color: #E8F0FE;\n",
              "      border: none;\n",
              "      border-radius: 50%;\n",
              "      cursor: pointer;\n",
              "      display: none;\n",
              "      fill: #1967D2;\n",
              "      height: 32px;\n",
              "      padding: 0 0 0 0;\n",
              "      width: 32px;\n",
              "    }\n",
              "\n",
              "    .colab-df-convert:hover {\n",
              "      background-color: #E2EBFA;\n",
              "      box-shadow: 0px 1px 2px rgba(60, 64, 67, 0.3), 0px 1px 3px 1px rgba(60, 64, 67, 0.15);\n",
              "      fill: #174EA6;\n",
              "    }\n",
              "\n",
              "    [theme=dark] .colab-df-convert {\n",
              "      background-color: #3B4455;\n",
              "      fill: #D2E3FC;\n",
              "    }\n",
              "\n",
              "    [theme=dark] .colab-df-convert:hover {\n",
              "      background-color: #434B5C;\n",
              "      box-shadow: 0px 1px 3px 1px rgba(0, 0, 0, 0.15);\n",
              "      filter: drop-shadow(0px 1px 2px rgba(0, 0, 0, 0.3));\n",
              "      fill: #FFFFFF;\n",
              "    }\n",
              "  </style>\n",
              "\n",
              "      <script>\n",
              "        const buttonEl =\n",
              "          document.querySelector('#df-5e422990-18de-42bc-ad90-eecb2a4c9213 button.colab-df-convert');\n",
              "        buttonEl.style.display =\n",
              "          google.colab.kernel.accessAllowed ? 'block' : 'none';\n",
              "\n",
              "        async function convertToInteractive(key) {\n",
              "          const element = document.querySelector('#df-5e422990-18de-42bc-ad90-eecb2a4c9213');\n",
              "          const dataTable =\n",
              "            await google.colab.kernel.invokeFunction('convertToInteractive',\n",
              "                                                     [key], {});\n",
              "          if (!dataTable) return;\n",
              "\n",
              "          const docLinkHtml = 'Like what you see? Visit the ' +\n",
              "            '<a target=\"_blank\" href=https://colab.research.google.com/notebooks/data_table.ipynb>data table notebook</a>'\n",
              "            + ' to learn more about interactive tables.';\n",
              "          element.innerHTML = '';\n",
              "          dataTable['output_type'] = 'display_data';\n",
              "          await google.colab.output.renderOutput(dataTable, element);\n",
              "          const docLink = document.createElement('div');\n",
              "          docLink.innerHTML = docLinkHtml;\n",
              "          element.appendChild(docLink);\n",
              "        }\n",
              "      </script>\n",
              "    </div>\n",
              "  </div>\n",
              "  "
            ]
          },
          "metadata": {},
          "execution_count": 279
        }
      ]
    },
    {
      "cell_type": "code",
      "metadata": {
        "id": "7fxcufnEZ_HN",
        "colab": {
          "base_uri": "https://localhost:8080/"
        },
        "outputId": "54020b41-5cb9-4118-9d1c-0cf5aa086717"
      },
      "source": [
        "#Cuantos registros hay por cada clase? es decir, por cada valor del atributo de salida?\n",
        "\n",
        "print(data['Class'].value_counts())"
      ],
      "execution_count": null,
      "outputs": [
        {
          "output_type": "stream",
          "name": "stdout",
          "text": [
            "negative                   2580\n",
            "compensated hypothyroid     154\n",
            "primary hypothyroid          64\n",
            "secondary hypothyroid         2\n",
            "Name: Class, dtype: int64\n"
          ]
        }
      ]
    },
    {
      "cell_type": "markdown",
      "source": [
        "El bajo número de registros en el dataset correspondientes a las clases \"secondary hypothyroid\" y al alto nivel de desbalanceo entre las diferentes clases nos hacen pensar en que sería necesario una recategorización del atributo respuesta en una binaria (Negativa, Positiva para Hipotiroide). Por tal motivo, durante la etapa de modelación se presentarán los dos escenarios"
      ],
      "metadata": {
        "id": "XuQQ2goa4ESU"
      }
    },
    {
      "cell_type": "markdown",
      "metadata": {
        "id": "P_0pYcP0gFq8"
      },
      "source": [
        "## Etapa 2: Preparación de los datos\n",
        "De acuerdo a lo observado en la etapa 1, se define una secuencia de actividades que modifican los datos para eliminar las situaciones que puedan ser causa de fallo o deficiencia en el proceso de aprendizaje. En este caso se van a realizar las siguientes actividades:\n",
        "\n",
        "\n",
        "1.   Completar los datos faltantes utilizando la media para atributos numéricos y la moda para atributos categóricos.\n",
        "2.   Convertir los atributos categóricos a escala numérica.\n",
        "3.   Normalizar los valores de algunos los atributos.\n",
        "4.   Balancear las clases eliminando registros de la clase mayoritaria.\n",
        "\n",
        "\n",
        "\n",
        "\n"
      ]
    },
    {
      "cell_type": "code",
      "metadata": {
        "id": "4OD4P0wFZ_HO"
      },
      "source": [
        "# Se reemplazan los datos faltantes (NaN) por la moda de cada atributo.\n",
        "data[\"age\"].fillna(59, inplace = True)\n",
        "data['sex'].fillna('F', inplace = True)\n",
        "\n",
        "#se eliminan valores extremos\n",
        "# 1) se elimina la edad de 455 años\n",
        "data = data[data['age'] != 455]"
      ],
      "execution_count": null,
      "outputs": []
    },
    {
      "cell_type": "code",
      "source": [
        "data.describe()"
      ],
      "metadata": {
        "colab": {
          "base_uri": "https://localhost:8080/",
          "height": 300
        },
        "id": "GyDfHw5gMh6G",
        "outputId": "36c1244e-0f36-44fa-babd-c26516977cfa"
      },
      "execution_count": null,
      "outputs": [
        {
          "output_type": "execute_result",
          "data": {
            "text/plain": [
              "               age          TSH          TT4          T4U          FTI\n",
              "count  2799.000000  2515.000000  2615.000000  2502.000000  2504.000000\n",
              "mean     51.702751     4.673571   109.068987     0.997859   110.790695\n",
              "std      18.988623    21.453600    35.398781     0.194411    32.890274\n",
              "min       1.000000     0.005000     2.000000     0.310000     2.000000\n",
              "25%      36.000000     0.440000    88.000000     0.880000    93.000000\n",
              "50%      54.000000     1.400000   104.000000     0.980000   107.000000\n",
              "75%      67.000000     2.600000   125.000000     1.080000   124.000000\n",
              "max      94.000000   478.000000   430.000000     2.120000   395.000000"
            ],
            "text/html": [
              "\n",
              "  <div id=\"df-a841abd2-bbc3-49bf-84ee-8eacb0ba71c0\">\n",
              "    <div class=\"colab-df-container\">\n",
              "      <div>\n",
              "<style scoped>\n",
              "    .dataframe tbody tr th:only-of-type {\n",
              "        vertical-align: middle;\n",
              "    }\n",
              "\n",
              "    .dataframe tbody tr th {\n",
              "        vertical-align: top;\n",
              "    }\n",
              "\n",
              "    .dataframe thead th {\n",
              "        text-align: right;\n",
              "    }\n",
              "</style>\n",
              "<table border=\"1\" class=\"dataframe\">\n",
              "  <thead>\n",
              "    <tr style=\"text-align: right;\">\n",
              "      <th></th>\n",
              "      <th>age</th>\n",
              "      <th>TSH</th>\n",
              "      <th>TT4</th>\n",
              "      <th>T4U</th>\n",
              "      <th>FTI</th>\n",
              "    </tr>\n",
              "  </thead>\n",
              "  <tbody>\n",
              "    <tr>\n",
              "      <th>count</th>\n",
              "      <td>2799.000000</td>\n",
              "      <td>2515.000000</td>\n",
              "      <td>2615.000000</td>\n",
              "      <td>2502.000000</td>\n",
              "      <td>2504.000000</td>\n",
              "    </tr>\n",
              "    <tr>\n",
              "      <th>mean</th>\n",
              "      <td>51.702751</td>\n",
              "      <td>4.673571</td>\n",
              "      <td>109.068987</td>\n",
              "      <td>0.997859</td>\n",
              "      <td>110.790695</td>\n",
              "    </tr>\n",
              "    <tr>\n",
              "      <th>std</th>\n",
              "      <td>18.988623</td>\n",
              "      <td>21.453600</td>\n",
              "      <td>35.398781</td>\n",
              "      <td>0.194411</td>\n",
              "      <td>32.890274</td>\n",
              "    </tr>\n",
              "    <tr>\n",
              "      <th>min</th>\n",
              "      <td>1.000000</td>\n",
              "      <td>0.005000</td>\n",
              "      <td>2.000000</td>\n",
              "      <td>0.310000</td>\n",
              "      <td>2.000000</td>\n",
              "    </tr>\n",
              "    <tr>\n",
              "      <th>25%</th>\n",
              "      <td>36.000000</td>\n",
              "      <td>0.440000</td>\n",
              "      <td>88.000000</td>\n",
              "      <td>0.880000</td>\n",
              "      <td>93.000000</td>\n",
              "    </tr>\n",
              "    <tr>\n",
              "      <th>50%</th>\n",
              "      <td>54.000000</td>\n",
              "      <td>1.400000</td>\n",
              "      <td>104.000000</td>\n",
              "      <td>0.980000</td>\n",
              "      <td>107.000000</td>\n",
              "    </tr>\n",
              "    <tr>\n",
              "      <th>75%</th>\n",
              "      <td>67.000000</td>\n",
              "      <td>2.600000</td>\n",
              "      <td>125.000000</td>\n",
              "      <td>1.080000</td>\n",
              "      <td>124.000000</td>\n",
              "    </tr>\n",
              "    <tr>\n",
              "      <th>max</th>\n",
              "      <td>94.000000</td>\n",
              "      <td>478.000000</td>\n",
              "      <td>430.000000</td>\n",
              "      <td>2.120000</td>\n",
              "      <td>395.000000</td>\n",
              "    </tr>\n",
              "  </tbody>\n",
              "</table>\n",
              "</div>\n",
              "      <button class=\"colab-df-convert\" onclick=\"convertToInteractive('df-a841abd2-bbc3-49bf-84ee-8eacb0ba71c0')\"\n",
              "              title=\"Convert this dataframe to an interactive table.\"\n",
              "              style=\"display:none;\">\n",
              "        \n",
              "  <svg xmlns=\"http://www.w3.org/2000/svg\" height=\"24px\"viewBox=\"0 0 24 24\"\n",
              "       width=\"24px\">\n",
              "    <path d=\"M0 0h24v24H0V0z\" fill=\"none\"/>\n",
              "    <path d=\"M18.56 5.44l.94 2.06.94-2.06 2.06-.94-2.06-.94-.94-2.06-.94 2.06-2.06.94zm-11 1L8.5 8.5l.94-2.06 2.06-.94-2.06-.94L8.5 2.5l-.94 2.06-2.06.94zm10 10l.94 2.06.94-2.06 2.06-.94-2.06-.94-.94-2.06-.94 2.06-2.06.94z\"/><path d=\"M17.41 7.96l-1.37-1.37c-.4-.4-.92-.59-1.43-.59-.52 0-1.04.2-1.43.59L10.3 9.45l-7.72 7.72c-.78.78-.78 2.05 0 2.83L4 21.41c.39.39.9.59 1.41.59.51 0 1.02-.2 1.41-.59l7.78-7.78 2.81-2.81c.8-.78.8-2.07 0-2.86zM5.41 20L4 18.59l7.72-7.72 1.47 1.35L5.41 20z\"/>\n",
              "  </svg>\n",
              "      </button>\n",
              "      \n",
              "  <style>\n",
              "    .colab-df-container {\n",
              "      display:flex;\n",
              "      flex-wrap:wrap;\n",
              "      gap: 12px;\n",
              "    }\n",
              "\n",
              "    .colab-df-convert {\n",
              "      background-color: #E8F0FE;\n",
              "      border: none;\n",
              "      border-radius: 50%;\n",
              "      cursor: pointer;\n",
              "      display: none;\n",
              "      fill: #1967D2;\n",
              "      height: 32px;\n",
              "      padding: 0 0 0 0;\n",
              "      width: 32px;\n",
              "    }\n",
              "\n",
              "    .colab-df-convert:hover {\n",
              "      background-color: #E2EBFA;\n",
              "      box-shadow: 0px 1px 2px rgba(60, 64, 67, 0.3), 0px 1px 3px 1px rgba(60, 64, 67, 0.15);\n",
              "      fill: #174EA6;\n",
              "    }\n",
              "\n",
              "    [theme=dark] .colab-df-convert {\n",
              "      background-color: #3B4455;\n",
              "      fill: #D2E3FC;\n",
              "    }\n",
              "\n",
              "    [theme=dark] .colab-df-convert:hover {\n",
              "      background-color: #434B5C;\n",
              "      box-shadow: 0px 1px 3px 1px rgba(0, 0, 0, 0.15);\n",
              "      filter: drop-shadow(0px 1px 2px rgba(0, 0, 0, 0.3));\n",
              "      fill: #FFFFFF;\n",
              "    }\n",
              "  </style>\n",
              "\n",
              "      <script>\n",
              "        const buttonEl =\n",
              "          document.querySelector('#df-a841abd2-bbc3-49bf-84ee-8eacb0ba71c0 button.colab-df-convert');\n",
              "        buttonEl.style.display =\n",
              "          google.colab.kernel.accessAllowed ? 'block' : 'none';\n",
              "\n",
              "        async function convertToInteractive(key) {\n",
              "          const element = document.querySelector('#df-a841abd2-bbc3-49bf-84ee-8eacb0ba71c0');\n",
              "          const dataTable =\n",
              "            await google.colab.kernel.invokeFunction('convertToInteractive',\n",
              "                                                     [key], {});\n",
              "          if (!dataTable) return;\n",
              "\n",
              "          const docLinkHtml = 'Like what you see? Visit the ' +\n",
              "            '<a target=\"_blank\" href=https://colab.research.google.com/notebooks/data_table.ipynb>data table notebook</a>'\n",
              "            + ' to learn more about interactive tables.';\n",
              "          element.innerHTML = '';\n",
              "          dataTable['output_type'] = 'display_data';\n",
              "          await google.colab.output.renderOutput(dataTable, element);\n",
              "          const docLink = document.createElement('div');\n",
              "          docLink.innerHTML = docLinkHtml;\n",
              "          element.appendChild(docLink);\n",
              "        }\n",
              "      </script>\n",
              "    </div>\n",
              "  </div>\n",
              "  "
            ]
          },
          "metadata": {},
          "execution_count": 282
        }
      ]
    },
    {
      "cell_type": "markdown",
      "source": [
        "Se decidió eliminar los registros con datos faltantes de las siguientes columnas: \n",
        "\n",
        "\n",
        "1.   \"TSH\"\n",
        "2.   \"T4U\"\n",
        "3.   \"FTI\"\n",
        "4. \"TT4\"\n",
        "\n",
        "\n",
        "Puesto que estas columnas cuando no tienen valor indican que la prueba no se realizó. Consideramos que no era correcto imputar los datos faltantes con un 0, puesto que este valor afectaria el resultado de la prueba de los que si habian tomado la prueba y tenian un valor asignado.\n",
        "si se imputaba con la moda, tambien se presentaria una situacion semejante.\n"
      ],
      "metadata": {
        "id": "_xKNauFOnPHf"
      }
    },
    {
      "cell_type": "code",
      "source": [
        "# SE eliminan los registros con datos faltantes\n",
        "\n",
        "data = data[data['TSH'].notna()]\n",
        "data = data[data['T4U'].notna()]\n",
        "data = data[data['FTI'].notna()]\n",
        "data = data[data['TT4'].notna()]"
      ],
      "metadata": {
        "id": "-CQyLSLyOVRE"
      },
      "execution_count": null,
      "outputs": []
    },
    {
      "cell_type": "code",
      "source": [
        "data.shape"
      ],
      "metadata": {
        "colab": {
          "base_uri": "https://localhost:8080/"
        },
        "id": "Vuh4KarROgpb",
        "outputId": "13c495bb-2ad1-4900-ce3c-3f4b4f956df0"
      },
      "execution_count": null,
      "outputs": [
        {
          "output_type": "execute_result",
          "data": {
            "text/plain": [
              "(2383, 26)"
            ]
          },
          "metadata": {},
          "execution_count": 284
        }
      ]
    },
    {
      "cell_type": "code",
      "source": [
        "#Cuantos registros hay por cada clase? es decir, por cada valor del atributo de salida?\n",
        "\n",
        "print(data['Class'].value_counts())"
      ],
      "metadata": {
        "colab": {
          "base_uri": "https://localhost:8080/"
        },
        "id": "jasVnv9jQF0V",
        "outputId": "7c19f083-6007-4b71-b70a-ef351909bd71"
      },
      "execution_count": null,
      "outputs": [
        {
          "output_type": "stream",
          "name": "stdout",
          "text": [
            "negative                   2183\n",
            "compensated hypothyroid     141\n",
            "primary hypothyroid          58\n",
            "secondary hypothyroid         1\n",
            "Name: Class, dtype: int64\n"
          ]
        }
      ]
    },
    {
      "cell_type": "code",
      "source": [
        "# Recategorización de atributo 'Class'\n",
        "data_bin = data.copy()\n",
        "data_bin['Class'] = np.where( (data_bin['Class'] ==\"compensated hypothyroid\") | (data_bin['Class'] ==\"primary hypothyroid\") | (data_bin['Class'] ==\"secondary hypothyroid\") , 1, 0)\n",
        "data_bin.head()"
      ],
      "metadata": {
        "colab": {
          "base_uri": "https://localhost:8080/",
          "height": 299
        },
        "id": "-mKBKPfTqYyz",
        "outputId": "25e0373d-aba8-474e-9688-7baaf0a03f2f"
      },
      "execution_count": null,
      "outputs": [
        {
          "output_type": "execute_result",
          "data": {
            "text/plain": [
              "    age sex on_thyroxine query_on_thyroxine on_antithyroid_medication sick  \\\n",
              "0  41.0   F            f                  f                         f    f   \n",
              "2  46.0   M            f                  f                         f    f   \n",
              "4  70.0   F            f                  f                         f    f   \n",
              "5  18.0   F            t                  f                         f    f   \n",
              "7  80.0   F            f                  f                         f    f   \n",
              "\n",
              "  pregnant thyroid_surgery I131_treatment query_hypothyroid  ... TSH_measured  \\\n",
              "0        f               f              f                 f  ...            t   \n",
              "2        f               f              f                 f  ...            t   \n",
              "4        f               f              f                 f  ...            t   \n",
              "5        f               f              f                 f  ...            t   \n",
              "7        f               f              f                 f  ...            t   \n",
              "\n",
              "    TSH TT4_measured    TT4 T4U_measured   T4U FTI_measured    FTI  \\\n",
              "0  1.30            t  125.0            t  1.14            t  109.0   \n",
              "2  0.98            t  109.0            t  0.91            t  120.0   \n",
              "4  0.72            t   61.0            t  0.87            t   70.0   \n",
              "5  0.03            t  183.0            t  1.30            t  141.0   \n",
              "7  2.20            t   80.0            t  0.70            t  115.0   \n",
              "\n",
              "  referral_source  Class  \n",
              "0            SVHC      0  \n",
              "2           other      0  \n",
              "4             SVI      0  \n",
              "5           other      0  \n",
              "7             SVI      0  \n",
              "\n",
              "[5 rows x 26 columns]"
            ],
            "text/html": [
              "\n",
              "  <div id=\"df-4efe7f3b-33da-4199-8a24-1b68411bad7d\">\n",
              "    <div class=\"colab-df-container\">\n",
              "      <div>\n",
              "<style scoped>\n",
              "    .dataframe tbody tr th:only-of-type {\n",
              "        vertical-align: middle;\n",
              "    }\n",
              "\n",
              "    .dataframe tbody tr th {\n",
              "        vertical-align: top;\n",
              "    }\n",
              "\n",
              "    .dataframe thead th {\n",
              "        text-align: right;\n",
              "    }\n",
              "</style>\n",
              "<table border=\"1\" class=\"dataframe\">\n",
              "  <thead>\n",
              "    <tr style=\"text-align: right;\">\n",
              "      <th></th>\n",
              "      <th>age</th>\n",
              "      <th>sex</th>\n",
              "      <th>on_thyroxine</th>\n",
              "      <th>query_on_thyroxine</th>\n",
              "      <th>on_antithyroid_medication</th>\n",
              "      <th>sick</th>\n",
              "      <th>pregnant</th>\n",
              "      <th>thyroid_surgery</th>\n",
              "      <th>I131_treatment</th>\n",
              "      <th>query_hypothyroid</th>\n",
              "      <th>...</th>\n",
              "      <th>TSH_measured</th>\n",
              "      <th>TSH</th>\n",
              "      <th>TT4_measured</th>\n",
              "      <th>TT4</th>\n",
              "      <th>T4U_measured</th>\n",
              "      <th>T4U</th>\n",
              "      <th>FTI_measured</th>\n",
              "      <th>FTI</th>\n",
              "      <th>referral_source</th>\n",
              "      <th>Class</th>\n",
              "    </tr>\n",
              "  </thead>\n",
              "  <tbody>\n",
              "    <tr>\n",
              "      <th>0</th>\n",
              "      <td>41.0</td>\n",
              "      <td>F</td>\n",
              "      <td>f</td>\n",
              "      <td>f</td>\n",
              "      <td>f</td>\n",
              "      <td>f</td>\n",
              "      <td>f</td>\n",
              "      <td>f</td>\n",
              "      <td>f</td>\n",
              "      <td>f</td>\n",
              "      <td>...</td>\n",
              "      <td>t</td>\n",
              "      <td>1.30</td>\n",
              "      <td>t</td>\n",
              "      <td>125.0</td>\n",
              "      <td>t</td>\n",
              "      <td>1.14</td>\n",
              "      <td>t</td>\n",
              "      <td>109.0</td>\n",
              "      <td>SVHC</td>\n",
              "      <td>0</td>\n",
              "    </tr>\n",
              "    <tr>\n",
              "      <th>2</th>\n",
              "      <td>46.0</td>\n",
              "      <td>M</td>\n",
              "      <td>f</td>\n",
              "      <td>f</td>\n",
              "      <td>f</td>\n",
              "      <td>f</td>\n",
              "      <td>f</td>\n",
              "      <td>f</td>\n",
              "      <td>f</td>\n",
              "      <td>f</td>\n",
              "      <td>...</td>\n",
              "      <td>t</td>\n",
              "      <td>0.98</td>\n",
              "      <td>t</td>\n",
              "      <td>109.0</td>\n",
              "      <td>t</td>\n",
              "      <td>0.91</td>\n",
              "      <td>t</td>\n",
              "      <td>120.0</td>\n",
              "      <td>other</td>\n",
              "      <td>0</td>\n",
              "    </tr>\n",
              "    <tr>\n",
              "      <th>4</th>\n",
              "      <td>70.0</td>\n",
              "      <td>F</td>\n",
              "      <td>f</td>\n",
              "      <td>f</td>\n",
              "      <td>f</td>\n",
              "      <td>f</td>\n",
              "      <td>f</td>\n",
              "      <td>f</td>\n",
              "      <td>f</td>\n",
              "      <td>f</td>\n",
              "      <td>...</td>\n",
              "      <td>t</td>\n",
              "      <td>0.72</td>\n",
              "      <td>t</td>\n",
              "      <td>61.0</td>\n",
              "      <td>t</td>\n",
              "      <td>0.87</td>\n",
              "      <td>t</td>\n",
              "      <td>70.0</td>\n",
              "      <td>SVI</td>\n",
              "      <td>0</td>\n",
              "    </tr>\n",
              "    <tr>\n",
              "      <th>5</th>\n",
              "      <td>18.0</td>\n",
              "      <td>F</td>\n",
              "      <td>t</td>\n",
              "      <td>f</td>\n",
              "      <td>f</td>\n",
              "      <td>f</td>\n",
              "      <td>f</td>\n",
              "      <td>f</td>\n",
              "      <td>f</td>\n",
              "      <td>f</td>\n",
              "      <td>...</td>\n",
              "      <td>t</td>\n",
              "      <td>0.03</td>\n",
              "      <td>t</td>\n",
              "      <td>183.0</td>\n",
              "      <td>t</td>\n",
              "      <td>1.30</td>\n",
              "      <td>t</td>\n",
              "      <td>141.0</td>\n",
              "      <td>other</td>\n",
              "      <td>0</td>\n",
              "    </tr>\n",
              "    <tr>\n",
              "      <th>7</th>\n",
              "      <td>80.0</td>\n",
              "      <td>F</td>\n",
              "      <td>f</td>\n",
              "      <td>f</td>\n",
              "      <td>f</td>\n",
              "      <td>f</td>\n",
              "      <td>f</td>\n",
              "      <td>f</td>\n",
              "      <td>f</td>\n",
              "      <td>f</td>\n",
              "      <td>...</td>\n",
              "      <td>t</td>\n",
              "      <td>2.20</td>\n",
              "      <td>t</td>\n",
              "      <td>80.0</td>\n",
              "      <td>t</td>\n",
              "      <td>0.70</td>\n",
              "      <td>t</td>\n",
              "      <td>115.0</td>\n",
              "      <td>SVI</td>\n",
              "      <td>0</td>\n",
              "    </tr>\n",
              "  </tbody>\n",
              "</table>\n",
              "<p>5 rows × 26 columns</p>\n",
              "</div>\n",
              "      <button class=\"colab-df-convert\" onclick=\"convertToInteractive('df-4efe7f3b-33da-4199-8a24-1b68411bad7d')\"\n",
              "              title=\"Convert this dataframe to an interactive table.\"\n",
              "              style=\"display:none;\">\n",
              "        \n",
              "  <svg xmlns=\"http://www.w3.org/2000/svg\" height=\"24px\"viewBox=\"0 0 24 24\"\n",
              "       width=\"24px\">\n",
              "    <path d=\"M0 0h24v24H0V0z\" fill=\"none\"/>\n",
              "    <path d=\"M18.56 5.44l.94 2.06.94-2.06 2.06-.94-2.06-.94-.94-2.06-.94 2.06-2.06.94zm-11 1L8.5 8.5l.94-2.06 2.06-.94-2.06-.94L8.5 2.5l-.94 2.06-2.06.94zm10 10l.94 2.06.94-2.06 2.06-.94-2.06-.94-.94-2.06-.94 2.06-2.06.94z\"/><path d=\"M17.41 7.96l-1.37-1.37c-.4-.4-.92-.59-1.43-.59-.52 0-1.04.2-1.43.59L10.3 9.45l-7.72 7.72c-.78.78-.78 2.05 0 2.83L4 21.41c.39.39.9.59 1.41.59.51 0 1.02-.2 1.41-.59l7.78-7.78 2.81-2.81c.8-.78.8-2.07 0-2.86zM5.41 20L4 18.59l7.72-7.72 1.47 1.35L5.41 20z\"/>\n",
              "  </svg>\n",
              "      </button>\n",
              "      \n",
              "  <style>\n",
              "    .colab-df-container {\n",
              "      display:flex;\n",
              "      flex-wrap:wrap;\n",
              "      gap: 12px;\n",
              "    }\n",
              "\n",
              "    .colab-df-convert {\n",
              "      background-color: #E8F0FE;\n",
              "      border: none;\n",
              "      border-radius: 50%;\n",
              "      cursor: pointer;\n",
              "      display: none;\n",
              "      fill: #1967D2;\n",
              "      height: 32px;\n",
              "      padding: 0 0 0 0;\n",
              "      width: 32px;\n",
              "    }\n",
              "\n",
              "    .colab-df-convert:hover {\n",
              "      background-color: #E2EBFA;\n",
              "      box-shadow: 0px 1px 2px rgba(60, 64, 67, 0.3), 0px 1px 3px 1px rgba(60, 64, 67, 0.15);\n",
              "      fill: #174EA6;\n",
              "    }\n",
              "\n",
              "    [theme=dark] .colab-df-convert {\n",
              "      background-color: #3B4455;\n",
              "      fill: #D2E3FC;\n",
              "    }\n",
              "\n",
              "    [theme=dark] .colab-df-convert:hover {\n",
              "      background-color: #434B5C;\n",
              "      box-shadow: 0px 1px 3px 1px rgba(0, 0, 0, 0.15);\n",
              "      filter: drop-shadow(0px 1px 2px rgba(0, 0, 0, 0.3));\n",
              "      fill: #FFFFFF;\n",
              "    }\n",
              "  </style>\n",
              "\n",
              "      <script>\n",
              "        const buttonEl =\n",
              "          document.querySelector('#df-4efe7f3b-33da-4199-8a24-1b68411bad7d button.colab-df-convert');\n",
              "        buttonEl.style.display =\n",
              "          google.colab.kernel.accessAllowed ? 'block' : 'none';\n",
              "\n",
              "        async function convertToInteractive(key) {\n",
              "          const element = document.querySelector('#df-4efe7f3b-33da-4199-8a24-1b68411bad7d');\n",
              "          const dataTable =\n",
              "            await google.colab.kernel.invokeFunction('convertToInteractive',\n",
              "                                                     [key], {});\n",
              "          if (!dataTable) return;\n",
              "\n",
              "          const docLinkHtml = 'Like what you see? Visit the ' +\n",
              "            '<a target=\"_blank\" href=https://colab.research.google.com/notebooks/data_table.ipynb>data table notebook</a>'\n",
              "            + ' to learn more about interactive tables.';\n",
              "          element.innerHTML = '';\n",
              "          dataTable['output_type'] = 'display_data';\n",
              "          await google.colab.output.renderOutput(dataTable, element);\n",
              "          const docLink = document.createElement('div');\n",
              "          docLink.innerHTML = docLinkHtml;\n",
              "          element.appendChild(docLink);\n",
              "        }\n",
              "      </script>\n",
              "    </div>\n",
              "  </div>\n",
              "  "
            ]
          },
          "metadata": {},
          "execution_count": 286
        }
      ]
    },
    {
      "cell_type": "code",
      "metadata": {
        "id": "_djlJ6YmkMxR",
        "colab": {
          "base_uri": "https://localhost:8080/",
          "height": 299
        },
        "outputId": "ba2763df-13c7-4a3c-c055-7c62d47c5605"
      },
      "source": [
        "from sklearn.preprocessing import LabelEncoder \n",
        "\n",
        "# Se convierten los atributos categóricos a valores numéricos\n",
        "labelencoder= LabelEncoder() \n",
        "data_bin['sex'] = labelencoder.fit_transform(data_bin['sex'])\n",
        "data_bin['on_thyroxine'] = labelencoder.fit_transform(data_bin['on_thyroxine'])\n",
        "data_bin['query_on_thyroxine'] = labelencoder.fit_transform(data_bin['query_on_thyroxine'])\n",
        "data_bin['on_antithyroid_medication'] = labelencoder.fit_transform(data_bin['on_antithyroid_medication'])\n",
        "data_bin['sick'] = labelencoder.fit_transform(data_bin['sick'])\n",
        "data_bin['pregnant'] = labelencoder.fit_transform(data_bin['pregnant'])\n",
        "data_bin['thyroid_surgery'] = labelencoder.fit_transform(data_bin['thyroid_surgery'])\n",
        "data_bin['I131_treatment'] = labelencoder.fit_transform(data_bin['I131_treatment'])\n",
        "data_bin['query_hypothyroid'] = labelencoder.fit_transform(data_bin['query_hypothyroid'])\n",
        "data_bin['query_hyperthyroid'] = labelencoder.fit_transform(data_bin['query_hyperthyroid'])\n",
        "data_bin['lithium'] = labelencoder.fit_transform(data_bin['lithium'])\n",
        "data_bin['goitre'] = labelencoder.fit_transform(data_bin['goitre'])\n",
        "data_bin['tumor'] = labelencoder.fit_transform(data_bin['tumor'])\n",
        "data_bin['hypopituitary'] = labelencoder.fit_transform(data_bin['hypopituitary'])\n",
        "data_bin['psych'] = labelencoder.fit_transform(data_bin['psych'])\n",
        "data_bin['TSH_measured'] = labelencoder.fit_transform(data_bin['TSH_measured'])\n",
        "data_bin['TT4_measured'] = labelencoder.fit_transform(data_bin['TT4_measured'])\n",
        "data_bin['T4U_measured'] = labelencoder.fit_transform(data_bin['T4U_measured'])\n",
        "data_bin['FTI_measured'] = labelencoder.fit_transform(data_bin['FTI_measured'])\n",
        "data_bin['referral_source'] = labelencoder.fit_transform(data_bin['referral_source'])\n",
        "data_bin['Class'] = labelencoder.fit_transform(data_bin['Class'])\n",
        "data_bin.head()\n",
        "\n",
        "# Se convierten los atributos categóricos a valores numéricos\n",
        "labelencoder= LabelEncoder() \n",
        "data['sex'] = labelencoder.fit_transform(data['sex'])\n",
        "data['on_thyroxine'] = labelencoder.fit_transform(data['on_thyroxine'])\n",
        "data['query_on_thyroxine'] = labelencoder.fit_transform(data['query_on_thyroxine'])\n",
        "data['on_antithyroid_medication'] = labelencoder.fit_transform(data['on_antithyroid_medication'])\n",
        "data['sick'] = labelencoder.fit_transform(data['sick'])\n",
        "data['pregnant'] = labelencoder.fit_transform(data['pregnant'])\n",
        "data['thyroid_surgery'] = labelencoder.fit_transform(data['thyroid_surgery'])\n",
        "data['I131_treatment'] = labelencoder.fit_transform(data['I131_treatment'])\n",
        "data['query_hypothyroid'] = labelencoder.fit_transform(data['query_hypothyroid'])\n",
        "data['query_hyperthyroid'] = labelencoder.fit_transform(data['query_hyperthyroid'])\n",
        "data['lithium'] = labelencoder.fit_transform(data['lithium'])\n",
        "data['goitre'] = labelencoder.fit_transform(data['goitre'])\n",
        "data['tumor'] = labelencoder.fit_transform(data['tumor'])\n",
        "data['hypopituitary'] = labelencoder.fit_transform(data['hypopituitary'])\n",
        "data['psych'] = labelencoder.fit_transform(data['psych'])\n",
        "data['TSH_measured'] = labelencoder.fit_transform(data['TSH_measured'])\n",
        "data['TT4_measured'] = labelencoder.fit_transform(data['TT4_measured'])\n",
        "data['T4U_measured'] = labelencoder.fit_transform(data['T4U_measured'])\n",
        "data['FTI_measured'] = labelencoder.fit_transform(data['FTI_measured'])\n",
        "data['referral_source'] = labelencoder.fit_transform(data['referral_source'])\n",
        "data.head()"
      ],
      "execution_count": null,
      "outputs": [
        {
          "output_type": "execute_result",
          "data": {
            "text/plain": [
              "    age  sex  on_thyroxine  query_on_thyroxine  on_antithyroid_medication  \\\n",
              "0  41.0    0             0                   0                          0   \n",
              "2  46.0    1             0                   0                          0   \n",
              "4  70.0    0             0                   0                          0   \n",
              "5  18.0    0             1                   0                          0   \n",
              "7  80.0    0             0                   0                          0   \n",
              "\n",
              "   sick  pregnant  thyroid_surgery  I131_treatment  query_hypothyroid  ...  \\\n",
              "0     0         0                0               0                  0  ...   \n",
              "2     0         0                0               0                  0  ...   \n",
              "4     0         0                0               0                  0  ...   \n",
              "5     0         0                0               0                  0  ...   \n",
              "7     0         0                0               0                  0  ...   \n",
              "\n",
              "   TSH_measured   TSH  TT4_measured    TT4  T4U_measured   T4U  FTI_measured  \\\n",
              "0             0  1.30             0  125.0             0  1.14             0   \n",
              "2             0  0.98             0  109.0             0  0.91             0   \n",
              "4             0  0.72             0   61.0             0  0.87             0   \n",
              "5             0  0.03             0  183.0             0  1.30             0   \n",
              "7             0  2.20             0   80.0             0  0.70             0   \n",
              "\n",
              "     FTI  referral_source     Class  \n",
              "0  109.0                1  negative  \n",
              "2  120.0                4  negative  \n",
              "4   70.0                3  negative  \n",
              "5  141.0                4  negative  \n",
              "7  115.0                3  negative  \n",
              "\n",
              "[5 rows x 26 columns]"
            ],
            "text/html": [
              "\n",
              "  <div id=\"df-707cbd30-783a-45c0-bc95-62aedf9b7347\">\n",
              "    <div class=\"colab-df-container\">\n",
              "      <div>\n",
              "<style scoped>\n",
              "    .dataframe tbody tr th:only-of-type {\n",
              "        vertical-align: middle;\n",
              "    }\n",
              "\n",
              "    .dataframe tbody tr th {\n",
              "        vertical-align: top;\n",
              "    }\n",
              "\n",
              "    .dataframe thead th {\n",
              "        text-align: right;\n",
              "    }\n",
              "</style>\n",
              "<table border=\"1\" class=\"dataframe\">\n",
              "  <thead>\n",
              "    <tr style=\"text-align: right;\">\n",
              "      <th></th>\n",
              "      <th>age</th>\n",
              "      <th>sex</th>\n",
              "      <th>on_thyroxine</th>\n",
              "      <th>query_on_thyroxine</th>\n",
              "      <th>on_antithyroid_medication</th>\n",
              "      <th>sick</th>\n",
              "      <th>pregnant</th>\n",
              "      <th>thyroid_surgery</th>\n",
              "      <th>I131_treatment</th>\n",
              "      <th>query_hypothyroid</th>\n",
              "      <th>...</th>\n",
              "      <th>TSH_measured</th>\n",
              "      <th>TSH</th>\n",
              "      <th>TT4_measured</th>\n",
              "      <th>TT4</th>\n",
              "      <th>T4U_measured</th>\n",
              "      <th>T4U</th>\n",
              "      <th>FTI_measured</th>\n",
              "      <th>FTI</th>\n",
              "      <th>referral_source</th>\n",
              "      <th>Class</th>\n",
              "    </tr>\n",
              "  </thead>\n",
              "  <tbody>\n",
              "    <tr>\n",
              "      <th>0</th>\n",
              "      <td>41.0</td>\n",
              "      <td>0</td>\n",
              "      <td>0</td>\n",
              "      <td>0</td>\n",
              "      <td>0</td>\n",
              "      <td>0</td>\n",
              "      <td>0</td>\n",
              "      <td>0</td>\n",
              "      <td>0</td>\n",
              "      <td>0</td>\n",
              "      <td>...</td>\n",
              "      <td>0</td>\n",
              "      <td>1.30</td>\n",
              "      <td>0</td>\n",
              "      <td>125.0</td>\n",
              "      <td>0</td>\n",
              "      <td>1.14</td>\n",
              "      <td>0</td>\n",
              "      <td>109.0</td>\n",
              "      <td>1</td>\n",
              "      <td>negative</td>\n",
              "    </tr>\n",
              "    <tr>\n",
              "      <th>2</th>\n",
              "      <td>46.0</td>\n",
              "      <td>1</td>\n",
              "      <td>0</td>\n",
              "      <td>0</td>\n",
              "      <td>0</td>\n",
              "      <td>0</td>\n",
              "      <td>0</td>\n",
              "      <td>0</td>\n",
              "      <td>0</td>\n",
              "      <td>0</td>\n",
              "      <td>...</td>\n",
              "      <td>0</td>\n",
              "      <td>0.98</td>\n",
              "      <td>0</td>\n",
              "      <td>109.0</td>\n",
              "      <td>0</td>\n",
              "      <td>0.91</td>\n",
              "      <td>0</td>\n",
              "      <td>120.0</td>\n",
              "      <td>4</td>\n",
              "      <td>negative</td>\n",
              "    </tr>\n",
              "    <tr>\n",
              "      <th>4</th>\n",
              "      <td>70.0</td>\n",
              "      <td>0</td>\n",
              "      <td>0</td>\n",
              "      <td>0</td>\n",
              "      <td>0</td>\n",
              "      <td>0</td>\n",
              "      <td>0</td>\n",
              "      <td>0</td>\n",
              "      <td>0</td>\n",
              "      <td>0</td>\n",
              "      <td>...</td>\n",
              "      <td>0</td>\n",
              "      <td>0.72</td>\n",
              "      <td>0</td>\n",
              "      <td>61.0</td>\n",
              "      <td>0</td>\n",
              "      <td>0.87</td>\n",
              "      <td>0</td>\n",
              "      <td>70.0</td>\n",
              "      <td>3</td>\n",
              "      <td>negative</td>\n",
              "    </tr>\n",
              "    <tr>\n",
              "      <th>5</th>\n",
              "      <td>18.0</td>\n",
              "      <td>0</td>\n",
              "      <td>1</td>\n",
              "      <td>0</td>\n",
              "      <td>0</td>\n",
              "      <td>0</td>\n",
              "      <td>0</td>\n",
              "      <td>0</td>\n",
              "      <td>0</td>\n",
              "      <td>0</td>\n",
              "      <td>...</td>\n",
              "      <td>0</td>\n",
              "      <td>0.03</td>\n",
              "      <td>0</td>\n",
              "      <td>183.0</td>\n",
              "      <td>0</td>\n",
              "      <td>1.30</td>\n",
              "      <td>0</td>\n",
              "      <td>141.0</td>\n",
              "      <td>4</td>\n",
              "      <td>negative</td>\n",
              "    </tr>\n",
              "    <tr>\n",
              "      <th>7</th>\n",
              "      <td>80.0</td>\n",
              "      <td>0</td>\n",
              "      <td>0</td>\n",
              "      <td>0</td>\n",
              "      <td>0</td>\n",
              "      <td>0</td>\n",
              "      <td>0</td>\n",
              "      <td>0</td>\n",
              "      <td>0</td>\n",
              "      <td>0</td>\n",
              "      <td>...</td>\n",
              "      <td>0</td>\n",
              "      <td>2.20</td>\n",
              "      <td>0</td>\n",
              "      <td>80.0</td>\n",
              "      <td>0</td>\n",
              "      <td>0.70</td>\n",
              "      <td>0</td>\n",
              "      <td>115.0</td>\n",
              "      <td>3</td>\n",
              "      <td>negative</td>\n",
              "    </tr>\n",
              "  </tbody>\n",
              "</table>\n",
              "<p>5 rows × 26 columns</p>\n",
              "</div>\n",
              "      <button class=\"colab-df-convert\" onclick=\"convertToInteractive('df-707cbd30-783a-45c0-bc95-62aedf9b7347')\"\n",
              "              title=\"Convert this dataframe to an interactive table.\"\n",
              "              style=\"display:none;\">\n",
              "        \n",
              "  <svg xmlns=\"http://www.w3.org/2000/svg\" height=\"24px\"viewBox=\"0 0 24 24\"\n",
              "       width=\"24px\">\n",
              "    <path d=\"M0 0h24v24H0V0z\" fill=\"none\"/>\n",
              "    <path d=\"M18.56 5.44l.94 2.06.94-2.06 2.06-.94-2.06-.94-.94-2.06-.94 2.06-2.06.94zm-11 1L8.5 8.5l.94-2.06 2.06-.94-2.06-.94L8.5 2.5l-.94 2.06-2.06.94zm10 10l.94 2.06.94-2.06 2.06-.94-2.06-.94-.94-2.06-.94 2.06-2.06.94z\"/><path d=\"M17.41 7.96l-1.37-1.37c-.4-.4-.92-.59-1.43-.59-.52 0-1.04.2-1.43.59L10.3 9.45l-7.72 7.72c-.78.78-.78 2.05 0 2.83L4 21.41c.39.39.9.59 1.41.59.51 0 1.02-.2 1.41-.59l7.78-7.78 2.81-2.81c.8-.78.8-2.07 0-2.86zM5.41 20L4 18.59l7.72-7.72 1.47 1.35L5.41 20z\"/>\n",
              "  </svg>\n",
              "      </button>\n",
              "      \n",
              "  <style>\n",
              "    .colab-df-container {\n",
              "      display:flex;\n",
              "      flex-wrap:wrap;\n",
              "      gap: 12px;\n",
              "    }\n",
              "\n",
              "    .colab-df-convert {\n",
              "      background-color: #E8F0FE;\n",
              "      border: none;\n",
              "      border-radius: 50%;\n",
              "      cursor: pointer;\n",
              "      display: none;\n",
              "      fill: #1967D2;\n",
              "      height: 32px;\n",
              "      padding: 0 0 0 0;\n",
              "      width: 32px;\n",
              "    }\n",
              "\n",
              "    .colab-df-convert:hover {\n",
              "      background-color: #E2EBFA;\n",
              "      box-shadow: 0px 1px 2px rgba(60, 64, 67, 0.3), 0px 1px 3px 1px rgba(60, 64, 67, 0.15);\n",
              "      fill: #174EA6;\n",
              "    }\n",
              "\n",
              "    [theme=dark] .colab-df-convert {\n",
              "      background-color: #3B4455;\n",
              "      fill: #D2E3FC;\n",
              "    }\n",
              "\n",
              "    [theme=dark] .colab-df-convert:hover {\n",
              "      background-color: #434B5C;\n",
              "      box-shadow: 0px 1px 3px 1px rgba(0, 0, 0, 0.15);\n",
              "      filter: drop-shadow(0px 1px 2px rgba(0, 0, 0, 0.3));\n",
              "      fill: #FFFFFF;\n",
              "    }\n",
              "  </style>\n",
              "\n",
              "      <script>\n",
              "        const buttonEl =\n",
              "          document.querySelector('#df-707cbd30-783a-45c0-bc95-62aedf9b7347 button.colab-df-convert');\n",
              "        buttonEl.style.display =\n",
              "          google.colab.kernel.accessAllowed ? 'block' : 'none';\n",
              "\n",
              "        async function convertToInteractive(key) {\n",
              "          const element = document.querySelector('#df-707cbd30-783a-45c0-bc95-62aedf9b7347');\n",
              "          const dataTable =\n",
              "            await google.colab.kernel.invokeFunction('convertToInteractive',\n",
              "                                                     [key], {});\n",
              "          if (!dataTable) return;\n",
              "\n",
              "          const docLinkHtml = 'Like what you see? Visit the ' +\n",
              "            '<a target=\"_blank\" href=https://colab.research.google.com/notebooks/data_table.ipynb>data table notebook</a>'\n",
              "            + ' to learn more about interactive tables.';\n",
              "          element.innerHTML = '';\n",
              "          dataTable['output_type'] = 'display_data';\n",
              "          await google.colab.output.renderOutput(dataTable, element);\n",
              "          const docLink = document.createElement('div');\n",
              "          docLink.innerHTML = docLinkHtml;\n",
              "          element.appendChild(docLink);\n",
              "        }\n",
              "      </script>\n",
              "    </div>\n",
              "  </div>\n",
              "  "
            ]
          },
          "metadata": {},
          "execution_count": 287
        }
      ]
    },
    {
      "cell_type": "code",
      "metadata": {
        "id": "6Wz4LY9YZ_HP",
        "colab": {
          "base_uri": "https://localhost:8080/",
          "height": 299
        },
        "outputId": "d4b687e9-1b87-414e-8a80-549bce763fc7"
      },
      "source": [
        "from sklearn import preprocessing\n",
        "\n",
        "# Se normalizan todos los atributos seleccionados (columnas numericas)\n",
        "data_bin['age'] = preprocessing.scale(data_bin['age'])\n",
        "data_bin['TSH'] = preprocessing.scale(data_bin['TSH'])\n",
        "data_bin['TT4'] = preprocessing.scale(data_bin['TT4'])\n",
        "data_bin['T4U'] = preprocessing.scale(data_bin['T4U'])\n",
        "data_bin['FTI'] = preprocessing.scale(data_bin['FTI'])\n",
        "\n",
        "data_bin.head()\n",
        "\n",
        "# Se normalizan todos los atributos seleccionados (columnas numericas)\n",
        "data['age'] = preprocessing.scale(data['age'])\n",
        "data['TSH'] = preprocessing.scale(data['TSH'])\n",
        "data['TT4'] = preprocessing.scale(data['TT4'])\n",
        "data['T4U'] = preprocessing.scale(data['T4U'])\n",
        "data['FTI'] = preprocessing.scale(data['FTI'])\n",
        "\n",
        "data.head()"
      ],
      "execution_count": null,
      "outputs": [
        {
          "output_type": "execute_result",
          "data": {
            "text/plain": [
              "        age  sex  on_thyroxine  query_on_thyroxine  on_antithyroid_medication  \\\n",
              "0 -0.619709    0             0                   0                          0   \n",
              "2 -0.353376    1             0                   0                          0   \n",
              "4  0.925027    0             0                   0                          0   \n",
              "5 -1.844845    0             1                   0                          0   \n",
              "7  1.457694    0             0                   0                          0   \n",
              "\n",
              "   sick  pregnant  thyroid_surgery  I131_treatment  query_hypothyroid  ...  \\\n",
              "0     0         0                0               0                  0  ...   \n",
              "2     0         0                0               0                  0  ...   \n",
              "4     0         0                0               0                  0  ...   \n",
              "5     0         0                0               0                  0  ...   \n",
              "7     0         0                0               0                  0  ...   \n",
              "\n",
              "   TSH_measured       TSH  TT4_measured       TT4  T4U_measured       T4U  \\\n",
              "0             0 -0.152661             0  0.434637             0  0.723404   \n",
              "2             0 -0.167326             0 -0.014727             0 -0.454013   \n",
              "4             0 -0.179242             0 -1.362820             0 -0.658781   \n",
              "5             0 -0.210864             0  2.063582             0  1.542476   \n",
              "7             0 -0.111415             0 -0.829200             0 -1.529046   \n",
              "\n",
              "   FTI_measured       FTI  referral_source     Class  \n",
              "0             0 -0.054248                1  negative  \n",
              "2             0  0.279641                4  negative  \n",
              "4             0 -1.238037                3  negative  \n",
              "5             0  0.917066                4  negative  \n",
              "7             0  0.127874                3  negative  \n",
              "\n",
              "[5 rows x 26 columns]"
            ],
            "text/html": [
              "\n",
              "  <div id=\"df-033beb65-cf2c-4a6b-8339-2ae1a7095a2a\">\n",
              "    <div class=\"colab-df-container\">\n",
              "      <div>\n",
              "<style scoped>\n",
              "    .dataframe tbody tr th:only-of-type {\n",
              "        vertical-align: middle;\n",
              "    }\n",
              "\n",
              "    .dataframe tbody tr th {\n",
              "        vertical-align: top;\n",
              "    }\n",
              "\n",
              "    .dataframe thead th {\n",
              "        text-align: right;\n",
              "    }\n",
              "</style>\n",
              "<table border=\"1\" class=\"dataframe\">\n",
              "  <thead>\n",
              "    <tr style=\"text-align: right;\">\n",
              "      <th></th>\n",
              "      <th>age</th>\n",
              "      <th>sex</th>\n",
              "      <th>on_thyroxine</th>\n",
              "      <th>query_on_thyroxine</th>\n",
              "      <th>on_antithyroid_medication</th>\n",
              "      <th>sick</th>\n",
              "      <th>pregnant</th>\n",
              "      <th>thyroid_surgery</th>\n",
              "      <th>I131_treatment</th>\n",
              "      <th>query_hypothyroid</th>\n",
              "      <th>...</th>\n",
              "      <th>TSH_measured</th>\n",
              "      <th>TSH</th>\n",
              "      <th>TT4_measured</th>\n",
              "      <th>TT4</th>\n",
              "      <th>T4U_measured</th>\n",
              "      <th>T4U</th>\n",
              "      <th>FTI_measured</th>\n",
              "      <th>FTI</th>\n",
              "      <th>referral_source</th>\n",
              "      <th>Class</th>\n",
              "    </tr>\n",
              "  </thead>\n",
              "  <tbody>\n",
              "    <tr>\n",
              "      <th>0</th>\n",
              "      <td>-0.619709</td>\n",
              "      <td>0</td>\n",
              "      <td>0</td>\n",
              "      <td>0</td>\n",
              "      <td>0</td>\n",
              "      <td>0</td>\n",
              "      <td>0</td>\n",
              "      <td>0</td>\n",
              "      <td>0</td>\n",
              "      <td>0</td>\n",
              "      <td>...</td>\n",
              "      <td>0</td>\n",
              "      <td>-0.152661</td>\n",
              "      <td>0</td>\n",
              "      <td>0.434637</td>\n",
              "      <td>0</td>\n",
              "      <td>0.723404</td>\n",
              "      <td>0</td>\n",
              "      <td>-0.054248</td>\n",
              "      <td>1</td>\n",
              "      <td>negative</td>\n",
              "    </tr>\n",
              "    <tr>\n",
              "      <th>2</th>\n",
              "      <td>-0.353376</td>\n",
              "      <td>1</td>\n",
              "      <td>0</td>\n",
              "      <td>0</td>\n",
              "      <td>0</td>\n",
              "      <td>0</td>\n",
              "      <td>0</td>\n",
              "      <td>0</td>\n",
              "      <td>0</td>\n",
              "      <td>0</td>\n",
              "      <td>...</td>\n",
              "      <td>0</td>\n",
              "      <td>-0.167326</td>\n",
              "      <td>0</td>\n",
              "      <td>-0.014727</td>\n",
              "      <td>0</td>\n",
              "      <td>-0.454013</td>\n",
              "      <td>0</td>\n",
              "      <td>0.279641</td>\n",
              "      <td>4</td>\n",
              "      <td>negative</td>\n",
              "    </tr>\n",
              "    <tr>\n",
              "      <th>4</th>\n",
              "      <td>0.925027</td>\n",
              "      <td>0</td>\n",
              "      <td>0</td>\n",
              "      <td>0</td>\n",
              "      <td>0</td>\n",
              "      <td>0</td>\n",
              "      <td>0</td>\n",
              "      <td>0</td>\n",
              "      <td>0</td>\n",
              "      <td>0</td>\n",
              "      <td>...</td>\n",
              "      <td>0</td>\n",
              "      <td>-0.179242</td>\n",
              "      <td>0</td>\n",
              "      <td>-1.362820</td>\n",
              "      <td>0</td>\n",
              "      <td>-0.658781</td>\n",
              "      <td>0</td>\n",
              "      <td>-1.238037</td>\n",
              "      <td>3</td>\n",
              "      <td>negative</td>\n",
              "    </tr>\n",
              "    <tr>\n",
              "      <th>5</th>\n",
              "      <td>-1.844845</td>\n",
              "      <td>0</td>\n",
              "      <td>1</td>\n",
              "      <td>0</td>\n",
              "      <td>0</td>\n",
              "      <td>0</td>\n",
              "      <td>0</td>\n",
              "      <td>0</td>\n",
              "      <td>0</td>\n",
              "      <td>0</td>\n",
              "      <td>...</td>\n",
              "      <td>0</td>\n",
              "      <td>-0.210864</td>\n",
              "      <td>0</td>\n",
              "      <td>2.063582</td>\n",
              "      <td>0</td>\n",
              "      <td>1.542476</td>\n",
              "      <td>0</td>\n",
              "      <td>0.917066</td>\n",
              "      <td>4</td>\n",
              "      <td>negative</td>\n",
              "    </tr>\n",
              "    <tr>\n",
              "      <th>7</th>\n",
              "      <td>1.457694</td>\n",
              "      <td>0</td>\n",
              "      <td>0</td>\n",
              "      <td>0</td>\n",
              "      <td>0</td>\n",
              "      <td>0</td>\n",
              "      <td>0</td>\n",
              "      <td>0</td>\n",
              "      <td>0</td>\n",
              "      <td>0</td>\n",
              "      <td>...</td>\n",
              "      <td>0</td>\n",
              "      <td>-0.111415</td>\n",
              "      <td>0</td>\n",
              "      <td>-0.829200</td>\n",
              "      <td>0</td>\n",
              "      <td>-1.529046</td>\n",
              "      <td>0</td>\n",
              "      <td>0.127874</td>\n",
              "      <td>3</td>\n",
              "      <td>negative</td>\n",
              "    </tr>\n",
              "  </tbody>\n",
              "</table>\n",
              "<p>5 rows × 26 columns</p>\n",
              "</div>\n",
              "      <button class=\"colab-df-convert\" onclick=\"convertToInteractive('df-033beb65-cf2c-4a6b-8339-2ae1a7095a2a')\"\n",
              "              title=\"Convert this dataframe to an interactive table.\"\n",
              "              style=\"display:none;\">\n",
              "        \n",
              "  <svg xmlns=\"http://www.w3.org/2000/svg\" height=\"24px\"viewBox=\"0 0 24 24\"\n",
              "       width=\"24px\">\n",
              "    <path d=\"M0 0h24v24H0V0z\" fill=\"none\"/>\n",
              "    <path d=\"M18.56 5.44l.94 2.06.94-2.06 2.06-.94-2.06-.94-.94-2.06-.94 2.06-2.06.94zm-11 1L8.5 8.5l.94-2.06 2.06-.94-2.06-.94L8.5 2.5l-.94 2.06-2.06.94zm10 10l.94 2.06.94-2.06 2.06-.94-2.06-.94-.94-2.06-.94 2.06-2.06.94z\"/><path d=\"M17.41 7.96l-1.37-1.37c-.4-.4-.92-.59-1.43-.59-.52 0-1.04.2-1.43.59L10.3 9.45l-7.72 7.72c-.78.78-.78 2.05 0 2.83L4 21.41c.39.39.9.59 1.41.59.51 0 1.02-.2 1.41-.59l7.78-7.78 2.81-2.81c.8-.78.8-2.07 0-2.86zM5.41 20L4 18.59l7.72-7.72 1.47 1.35L5.41 20z\"/>\n",
              "  </svg>\n",
              "      </button>\n",
              "      \n",
              "  <style>\n",
              "    .colab-df-container {\n",
              "      display:flex;\n",
              "      flex-wrap:wrap;\n",
              "      gap: 12px;\n",
              "    }\n",
              "\n",
              "    .colab-df-convert {\n",
              "      background-color: #E8F0FE;\n",
              "      border: none;\n",
              "      border-radius: 50%;\n",
              "      cursor: pointer;\n",
              "      display: none;\n",
              "      fill: #1967D2;\n",
              "      height: 32px;\n",
              "      padding: 0 0 0 0;\n",
              "      width: 32px;\n",
              "    }\n",
              "\n",
              "    .colab-df-convert:hover {\n",
              "      background-color: #E2EBFA;\n",
              "      box-shadow: 0px 1px 2px rgba(60, 64, 67, 0.3), 0px 1px 3px 1px rgba(60, 64, 67, 0.15);\n",
              "      fill: #174EA6;\n",
              "    }\n",
              "\n",
              "    [theme=dark] .colab-df-convert {\n",
              "      background-color: #3B4455;\n",
              "      fill: #D2E3FC;\n",
              "    }\n",
              "\n",
              "    [theme=dark] .colab-df-convert:hover {\n",
              "      background-color: #434B5C;\n",
              "      box-shadow: 0px 1px 3px 1px rgba(0, 0, 0, 0.15);\n",
              "      filter: drop-shadow(0px 1px 2px rgba(0, 0, 0, 0.3));\n",
              "      fill: #FFFFFF;\n",
              "    }\n",
              "  </style>\n",
              "\n",
              "      <script>\n",
              "        const buttonEl =\n",
              "          document.querySelector('#df-033beb65-cf2c-4a6b-8339-2ae1a7095a2a button.colab-df-convert');\n",
              "        buttonEl.style.display =\n",
              "          google.colab.kernel.accessAllowed ? 'block' : 'none';\n",
              "\n",
              "        async function convertToInteractive(key) {\n",
              "          const element = document.querySelector('#df-033beb65-cf2c-4a6b-8339-2ae1a7095a2a');\n",
              "          const dataTable =\n",
              "            await google.colab.kernel.invokeFunction('convertToInteractive',\n",
              "                                                     [key], {});\n",
              "          if (!dataTable) return;\n",
              "\n",
              "          const docLinkHtml = 'Like what you see? Visit the ' +\n",
              "            '<a target=\"_blank\" href=https://colab.research.google.com/notebooks/data_table.ipynb>data table notebook</a>'\n",
              "            + ' to learn more about interactive tables.';\n",
              "          element.innerHTML = '';\n",
              "          dataTable['output_type'] = 'display_data';\n",
              "          await google.colab.output.renderOutput(dataTable, element);\n",
              "          const docLink = document.createElement('div');\n",
              "          docLink.innerHTML = docLinkHtml;\n",
              "          element.appendChild(docLink);\n",
              "        }\n",
              "      </script>\n",
              "    </div>\n",
              "  </div>\n",
              "  "
            ]
          },
          "metadata": {},
          "execution_count": 288
        }
      ]
    },
    {
      "cell_type": "markdown",
      "metadata": {
        "id": "J0k2r-I8lt0M"
      },
      "source": [
        "## Etapa 3: Modelado\n",
        "En esta etapa se van a utilizar los datos para realizar aprendizaje del atributo C a partir de los valores de los demás atributos. Es decir, se va a predecir si una persona tiene ingresos superiores o inferiores a 50K dolares. Las actividades a realizar son:\n",
        "1.   Dividir el conjunto de datos en conjuntos de entrenamiento y test.\n",
        "2.   Realizar el entrenamiento del modelo de regresión logística utilizando para ello el conjunto de entrenamiento.\n",
        "3.   Aplicar el modelo construido a los datos del conjunto de test.\n",
        "4.   Cálculo de una métrica de desempeño para evaluar la calidad del modelo en sus prediciones sobre el conjunto de test."
      ]
    },
    {
      "cell_type": "markdown",
      "source": [
        "Modelado Etapa 1\n",
        "  - Se emplean varias clases en la variable a predecir \"Clase\"\n",
        "  - No se realiza Balanceo de los datos de la clase minoritaria"
      ],
      "metadata": {
        "id": "xBP2eUhNrl0R"
      }
    },
    {
      "cell_type": "code",
      "source": [
        "# Dividir el conjunto de datos en conjuntos de entrenamiento y test\n",
        "\n",
        "from sklearn.model_selection import train_test_split\n",
        "\n",
        "X_train, X_test, y_train, y_test = train_test_split(data.drop('Class', axis=1), data.Class, test_size=0.30, random_state = 1) \n",
        "print (X_train.shape, y_train.shape)\n",
        "print (X_test.shape, y_test.shape)"
      ],
      "metadata": {
        "colab": {
          "base_uri": "https://localhost:8080/"
        },
        "id": "BhQHhm6zsu5i",
        "outputId": "77f25823-9bb5-4e65-ed84-be4c9dd537c5"
      },
      "execution_count": null,
      "outputs": [
        {
          "output_type": "stream",
          "name": "stdout",
          "text": [
            "(1668, 25) (1668,)\n",
            "(715, 25) (715,)\n"
          ]
        }
      ]
    },
    {
      "cell_type": "code",
      "source": [
        "# Entrenamiento del modelo de clasificación por regresión logística\n",
        "from sklearn.linear_model import LogisticRegression\n",
        "from sklearn.metrics import classification_report\n",
        "\n",
        "logisticRegr = LogisticRegression(solver=\"lbfgs\", max_iter=500, tol=0.01)\n",
        "logisticRegr.fit(X_train, y_train)"
      ],
      "metadata": {
        "colab": {
          "base_uri": "https://localhost:8080/"
        },
        "id": "wz16To8wtNW4",
        "outputId": "e2bf06f0-85fc-450c-a40e-6189ba135eb4"
      },
      "execution_count": null,
      "outputs": [
        {
          "output_type": "execute_result",
          "data": {
            "text/plain": [
              "LogisticRegression(max_iter=500, tol=0.01)"
            ]
          },
          "metadata": {},
          "execution_count": 290
        }
      ]
    },
    {
      "cell_type": "code",
      "source": [
        "# Aplicación del modelo construido a los datos de test\n",
        "predictions = logisticRegr.predict(X_test)\n",
        "predictions"
      ],
      "metadata": {
        "colab": {
          "base_uri": "https://localhost:8080/"
        },
        "id": "0HCRVX-TtUls",
        "outputId": "9dc32f55-5591-4563-fe7e-efab714819fe"
      },
      "execution_count": null,
      "outputs": [
        {
          "output_type": "execute_result",
          "data": {
            "text/plain": [
              "array(['negative', 'primary hypothyroid', 'negative', 'negative',\n",
              "       'negative', 'negative', 'negative', 'negative', 'negative',\n",
              "       'negative', 'negative', 'negative', 'negative', 'negative',\n",
              "       'negative', 'negative', 'negative', 'negative', 'negative',\n",
              "       'negative', 'negative', 'negative', 'negative', 'negative',\n",
              "       'negative', 'negative', 'negative', 'negative', 'negative',\n",
              "       'negative', 'negative', 'negative', 'negative', 'negative',\n",
              "       'negative', 'negative', 'negative', 'negative',\n",
              "       'primary hypothyroid', 'negative', 'negative', 'negative',\n",
              "       'negative', 'negative', 'negative', 'negative', 'negative',\n",
              "       'compensated hypothyroid', 'negative', 'negative', 'negative',\n",
              "       'negative', 'negative', 'negative', 'negative', 'negative',\n",
              "       'negative', 'negative', 'negative', 'negative', 'negative',\n",
              "       'negative', 'negative', 'negative', 'negative', 'negative',\n",
              "       'negative', 'negative', 'negative', 'negative', 'negative',\n",
              "       'negative', 'negative', 'negative', 'compensated hypothyroid',\n",
              "       'negative', 'negative', 'negative', 'negative', 'negative',\n",
              "       'negative', 'negative', 'negative', 'negative', 'negative',\n",
              "       'negative', 'negative', 'negative', 'negative', 'negative',\n",
              "       'negative', 'negative', 'negative', 'negative', 'negative',\n",
              "       'negative', 'negative', 'negative', 'negative', 'negative',\n",
              "       'negative', 'negative', 'negative', 'negative', 'negative',\n",
              "       'negative', 'negative', 'negative', 'negative', 'negative',\n",
              "       'negative', 'negative', 'negative', 'negative', 'negative',\n",
              "       'negative', 'negative', 'negative', 'negative',\n",
              "       'primary hypothyroid', 'negative', 'negative', 'negative',\n",
              "       'negative', 'negative', 'negative', 'primary hypothyroid',\n",
              "       'negative', 'negative', 'negative', 'negative', 'negative',\n",
              "       'negative', 'negative', 'negative', 'negative', 'negative',\n",
              "       'negative', 'negative', 'negative', 'negative', 'negative',\n",
              "       'negative', 'negative', 'negative', 'negative', 'negative',\n",
              "       'negative', 'negative', 'negative', 'negative', 'negative',\n",
              "       'negative', 'negative', 'negative', 'negative', 'negative',\n",
              "       'negative', 'negative', 'negative', 'negative', 'negative',\n",
              "       'negative', 'negative', 'negative', 'negative', 'negative',\n",
              "       'negative', 'negative', 'negative', 'negative', 'negative',\n",
              "       'negative', 'negative', 'compensated hypothyroid', 'negative',\n",
              "       'negative', 'negative', 'negative', 'negative', 'negative',\n",
              "       'negative', 'negative', 'negative', 'negative', 'negative',\n",
              "       'negative', 'negative', 'negative', 'negative', 'negative',\n",
              "       'negative', 'negative', 'negative', 'negative', 'negative',\n",
              "       'negative', 'primary hypothyroid', 'negative', 'negative',\n",
              "       'negative', 'negative', 'negative', 'negative', 'negative',\n",
              "       'negative', 'negative', 'negative', 'negative', 'negative',\n",
              "       'negative', 'negative', 'negative', 'negative', 'negative',\n",
              "       'negative', 'negative', 'negative', 'negative', 'negative',\n",
              "       'negative', 'negative', 'negative', 'negative', 'negative',\n",
              "       'negative', 'negative', 'negative', 'negative', 'negative',\n",
              "       'negative', 'negative', 'negative', 'negative', 'negative',\n",
              "       'negative', 'negative', 'negative', 'negative', 'negative',\n",
              "       'negative', 'negative', 'negative', 'negative', 'negative',\n",
              "       'negative', 'negative', 'negative', 'negative', 'negative',\n",
              "       'negative', 'negative', 'negative', 'negative', 'negative',\n",
              "       'negative', 'negative', 'negative', 'negative', 'negative',\n",
              "       'negative', 'negative', 'negative', 'negative', 'negative',\n",
              "       'negative', 'negative', 'negative', 'negative', 'negative',\n",
              "       'negative', 'negative', 'negative', 'negative', 'negative',\n",
              "       'negative', 'negative', 'negative', 'negative', 'negative',\n",
              "       'negative', 'negative', 'negative', 'negative', 'negative',\n",
              "       'negative', 'negative', 'negative', 'negative', 'negative',\n",
              "       'negative', 'negative', 'negative', 'negative', 'negative',\n",
              "       'negative', 'negative', 'compensated hypothyroid', 'negative',\n",
              "       'negative', 'primary hypothyroid', 'negative', 'negative',\n",
              "       'negative', 'negative', 'negative', 'negative', 'negative',\n",
              "       'negative', 'negative', 'negative', 'negative', 'negative',\n",
              "       'negative', 'negative', 'negative', 'negative', 'negative',\n",
              "       'negative', 'negative', 'negative', 'negative', 'negative',\n",
              "       'negative', 'negative', 'negative', 'negative', 'negative',\n",
              "       'negative', 'negative', 'negative', 'negative', 'negative',\n",
              "       'negative', 'negative', 'negative', 'negative', 'negative',\n",
              "       'negative', 'negative', 'negative', 'negative', 'negative',\n",
              "       'negative', 'negative', 'negative', 'negative', 'negative',\n",
              "       'negative', 'negative', 'negative', 'negative', 'negative',\n",
              "       'negative', 'negative', 'negative', 'negative', 'negative',\n",
              "       'negative', 'negative', 'negative', 'negative', 'negative',\n",
              "       'negative', 'negative', 'negative', 'primary hypothyroid',\n",
              "       'negative', 'negative', 'negative', 'negative', 'negative',\n",
              "       'negative', 'negative', 'negative', 'negative', 'negative',\n",
              "       'negative', 'negative', 'negative', 'negative', 'negative',\n",
              "       'negative', 'negative', 'negative', 'negative', 'negative',\n",
              "       'negative', 'negative', 'negative', 'negative',\n",
              "       'primary hypothyroid', 'negative', 'negative', 'negative',\n",
              "       'negative', 'negative', 'negative', 'negative', 'negative',\n",
              "       'negative', 'negative', 'negative', 'negative', 'negative',\n",
              "       'negative', 'negative', 'negative', 'negative', 'negative',\n",
              "       'negative', 'negative', 'negative', 'negative', 'negative',\n",
              "       'negative', 'negative', 'negative', 'negative', 'negative',\n",
              "       'negative', 'negative', 'negative', 'negative', 'negative',\n",
              "       'negative', 'compensated hypothyroid', 'negative', 'negative',\n",
              "       'negative', 'negative', 'negative', 'negative', 'negative',\n",
              "       'negative', 'negative', 'negative', 'negative', 'negative',\n",
              "       'negative', 'negative', 'negative', 'negative',\n",
              "       'compensated hypothyroid', 'negative', 'negative', 'negative',\n",
              "       'negative', 'primary hypothyroid', 'negative', 'negative',\n",
              "       'negative', 'negative', 'negative', 'negative',\n",
              "       'compensated hypothyroid', 'negative', 'negative', 'negative',\n",
              "       'negative', 'negative', 'negative', 'negative', 'negative',\n",
              "       'negative', 'negative', 'negative', 'negative', 'negative',\n",
              "       'negative', 'primary hypothyroid', 'negative',\n",
              "       'primary hypothyroid', 'negative', 'negative', 'negative',\n",
              "       'negative', 'negative', 'negative', 'negative', 'negative',\n",
              "       'primary hypothyroid', 'negative', 'negative', 'negative',\n",
              "       'negative', 'negative', 'negative', 'negative', 'negative',\n",
              "       'negative', 'negative', 'negative', 'negative', 'negative',\n",
              "       'negative', 'negative', 'negative', 'negative', 'negative',\n",
              "       'negative', 'negative', 'negative', 'negative', 'negative',\n",
              "       'negative', 'negative', 'negative', 'negative', 'negative',\n",
              "       'negative', 'negative', 'negative', 'negative', 'negative',\n",
              "       'negative', 'compensated hypothyroid', 'compensated hypothyroid',\n",
              "       'negative', 'negative', 'negative', 'negative', 'negative',\n",
              "       'negative', 'negative', 'negative', 'negative', 'negative',\n",
              "       'negative', 'negative', 'negative', 'negative', 'negative',\n",
              "       'negative', 'negative', 'negative', 'compensated hypothyroid',\n",
              "       'negative', 'negative', 'negative', 'negative', 'negative',\n",
              "       'negative', 'negative', 'negative', 'negative', 'negative',\n",
              "       'negative', 'negative', 'negative', 'negative', 'negative',\n",
              "       'negative', 'negative', 'negative', 'negative', 'negative',\n",
              "       'negative', 'negative', 'negative', 'negative', 'negative',\n",
              "       'negative', 'negative', 'negative', 'negative', 'negative',\n",
              "       'negative', 'negative', 'negative', 'negative', 'negative',\n",
              "       'negative', 'negative', 'negative', 'negative',\n",
              "       'compensated hypothyroid', 'negative', 'primary hypothyroid',\n",
              "       'negative', 'negative', 'negative', 'negative', 'negative',\n",
              "       'negative', 'negative', 'negative', 'negative', 'negative',\n",
              "       'negative', 'primary hypothyroid', 'negative', 'negative',\n",
              "       'negative', 'negative', 'negative', 'negative', 'negative',\n",
              "       'negative', 'negative', 'negative', 'negative', 'negative',\n",
              "       'negative', 'negative', 'negative', 'negative', 'negative',\n",
              "       'negative', 'negative', 'negative', 'negative', 'negative',\n",
              "       'negative', 'negative', 'negative', 'negative', 'negative',\n",
              "       'negative', 'negative', 'negative', 'negative', 'negative',\n",
              "       'negative', 'negative', 'negative', 'negative',\n",
              "       'primary hypothyroid', 'negative', 'negative', 'negative',\n",
              "       'negative', 'negative', 'negative', 'negative', 'negative',\n",
              "       'negative', 'negative', 'negative', 'negative', 'negative',\n",
              "       'negative', 'negative', 'negative', 'negative', 'negative',\n",
              "       'negative', 'negative', 'negative', 'negative', 'negative',\n",
              "       'negative', 'negative', 'negative', 'negative', 'negative',\n",
              "       'negative', 'negative', 'negative', 'negative', 'negative',\n",
              "       'negative', 'negative', 'negative', 'negative', 'negative',\n",
              "       'negative', 'negative', 'negative', 'negative', 'negative',\n",
              "       'negative', 'negative', 'negative', 'negative', 'negative',\n",
              "       'negative', 'negative', 'negative', 'primary hypothyroid',\n",
              "       'primary hypothyroid', 'negative', 'negative', 'negative',\n",
              "       'negative', 'negative', 'negative', 'negative', 'negative',\n",
              "       'negative', 'negative', 'negative', 'negative', 'negative',\n",
              "       'negative', 'negative', 'negative', 'negative', 'negative',\n",
              "       'negative', 'negative', 'negative', 'negative', 'negative',\n",
              "       'negative', 'negative', 'negative', 'negative', 'negative',\n",
              "       'negative', 'negative', 'negative', 'compensated hypothyroid',\n",
              "       'negative', 'negative'], dtype=object)"
            ]
          },
          "metadata": {},
          "execution_count": 291
        }
      ]
    },
    {
      "cell_type": "code",
      "source": [
        "# Cálculo del accuracy para evaluar el desempeño del modelo sobre los datos de test\n",
        "from sklearn.metrics import accuracy_score\n",
        "\n",
        "logr_ac = accuracy_score(y_test, predictions)\n",
        "logr_ac"
      ],
      "metadata": {
        "colab": {
          "base_uri": "https://localhost:8080/"
        },
        "id": "t0SyknFStZ32",
        "outputId": "019fcadb-70b8-4361-fe77-2f6fcd183e9d"
      },
      "execution_count": null,
      "outputs": [
        {
          "output_type": "execute_result",
          "data": {
            "text/plain": [
              "0.9342657342657342"
            ]
          },
          "metadata": {},
          "execution_count": 292
        }
      ]
    },
    {
      "cell_type": "code",
      "source": [
        "from sklearn.metrics import precision_score\n",
        "\n",
        "logr_pr = precision_score(y_test, predictions, average = 'weighted', zero_division=0)\n",
        "logr_pr"
      ],
      "metadata": {
        "colab": {
          "base_uri": "https://localhost:8080/"
        },
        "id": "6KGXvxbztdgk",
        "outputId": "bd1b4711-9903-4ce5-be49-9c669a67a491"
      },
      "execution_count": null,
      "outputs": [
        {
          "output_type": "execute_result",
          "data": {
            "text/plain": [
              "0.923004846294162"
            ]
          },
          "metadata": {},
          "execution_count": 293
        }
      ]
    },
    {
      "cell_type": "code",
      "source": [
        "from sklearn.metrics import recall_score\n",
        "\n",
        "logr_rc = recall_score(y_test, predictions, average = 'micro')\n",
        "logr_rc"
      ],
      "metadata": {
        "colab": {
          "base_uri": "https://localhost:8080/"
        },
        "id": "3T1BNO1zthU9",
        "outputId": "f3a8c301-0d72-4370-e94b-7ec9f4f57a53"
      },
      "execution_count": null,
      "outputs": [
        {
          "output_type": "execute_result",
          "data": {
            "text/plain": [
              "0.9342657342657342"
            ]
          },
          "metadata": {},
          "execution_count": 294
        }
      ]
    },
    {
      "cell_type": "code",
      "source": [
        "from sklearn.metrics import f1_score\n",
        "logr_f1 = f1_score(y_test, predictions, average = 'micro')\n",
        "logr_f1"
      ],
      "metadata": {
        "colab": {
          "base_uri": "https://localhost:8080/"
        },
        "id": "WXBEmZEpyS_N",
        "outputId": "91d9038c-8f0c-4ba2-f32a-af5e64475b43"
      },
      "execution_count": null,
      "outputs": [
        {
          "output_type": "execute_result",
          "data": {
            "text/plain": [
              "0.9342657342657342"
            ]
          },
          "metadata": {},
          "execution_count": 295
        }
      ]
    },
    {
      "cell_type": "code",
      "source": [
        "metrics_logr = [logr_ac, logr_pr, logr_rc, logr_f1]"
      ],
      "metadata": {
        "id": "j2lnDoxCtlyK"
      },
      "execution_count": null,
      "outputs": []
    },
    {
      "cell_type": "code",
      "source": [
        "from sklearn.metrics import confusion_matrix\n",
        "cm = confusion_matrix(y_test,predictions)\n",
        "sns.heatmap(cm,annot=True)"
      ],
      "metadata": {
        "colab": {
          "base_uri": "https://localhost:8080/",
          "height": 283
        },
        "id": "NjCkGOo_tpiH",
        "outputId": "24cb29ea-0b17-4e9b-a38e-9c3b86dd1690"
      },
      "execution_count": null,
      "outputs": [
        {
          "output_type": "execute_result",
          "data": {
            "text/plain": [
              "<matplotlib.axes._subplots.AxesSubplot at 0x7f4f3b763ed0>"
            ]
          },
          "metadata": {},
          "execution_count": 297
        },
        {
          "output_type": "display_data",
          "data": {
            "text/plain": [
              "<Figure size 432x288 with 2 Axes>"
            ],
            "image/png": "[encoded data removed]"
          },
          "metadata": {
            "needs_background": "light"
          }
        }
      ]
    },
    {
      "cell_type": "code",
      "source": [
        "from sklearn.tree import DecisionTreeClassifier\n",
        "tree = DecisionTreeClassifier()\n",
        "clf = tree.fit(X_train, y_train)\n",
        "tree_predict = clf.predict(X_test)"
      ],
      "metadata": {
        "id": "4n9V9442tvd8"
      },
      "execution_count": null,
      "outputs": []
    },
    {
      "cell_type": "code",
      "source": [
        "tree_ac = accuracy_score(y_test, tree_predict)\n",
        "tree_ac"
      ],
      "metadata": {
        "colab": {
          "base_uri": "https://localhost:8080/"
        },
        "id": "m4uggwobtxyl",
        "outputId": "a90e30bb-d17d-42e5-a307-fa01ff0302ec"
      },
      "execution_count": null,
      "outputs": [
        {
          "output_type": "execute_result",
          "data": {
            "text/plain": [
              "0.993006993006993"
            ]
          },
          "metadata": {},
          "execution_count": 299
        }
      ]
    },
    {
      "cell_type": "code",
      "source": [
        "tree_pr = precision_score(y_test, tree_predict, average = 'weighted', zero_division=0)\n",
        "tree_pr"
      ],
      "metadata": {
        "colab": {
          "base_uri": "https://localhost:8080/"
        },
        "id": "gi1qLDidt1Mz",
        "outputId": "2295dba0-22fe-4a48-f51d-80f726ed07a2"
      },
      "execution_count": null,
      "outputs": [
        {
          "output_type": "execute_result",
          "data": {
            "text/plain": [
              "0.9917556128082443"
            ]
          },
          "metadata": {},
          "execution_count": 300
        }
      ]
    },
    {
      "cell_type": "code",
      "source": [
        "tree_rc = recall_score(y_test, tree_predict, average = 'weighted')\n",
        "tree_rc"
      ],
      "metadata": {
        "colab": {
          "base_uri": "https://localhost:8080/"
        },
        "id": "QYAFW9Q5t59E",
        "outputId": "038bdb49-fd0c-42c2-e0ff-b16c9ef95567"
      },
      "execution_count": null,
      "outputs": [
        {
          "output_type": "execute_result",
          "data": {
            "text/plain": [
              "0.993006993006993"
            ]
          },
          "metadata": {},
          "execution_count": 301
        }
      ]
    },
    {
      "cell_type": "code",
      "source": [
        "from sklearn.metrics import f1_score\n",
        "tree_f1 = f1_score(y_test, tree_predict, average = 'weighted')\n",
        "tree_f1"
      ],
      "metadata": {
        "colab": {
          "base_uri": "https://localhost:8080/"
        },
        "id": "rJ-71LsEy0xo",
        "outputId": "e2185bc7-a277-4c8a-bf50-d44d91bbf059"
      },
      "execution_count": null,
      "outputs": [
        {
          "output_type": "execute_result",
          "data": {
            "text/plain": [
              "0.9923643923643923"
            ]
          },
          "metadata": {},
          "execution_count": 302
        }
      ]
    },
    {
      "cell_type": "code",
      "source": [
        "metrics_tree = [tree_ac, tree_pr, tree_rc, tree_f1]"
      ],
      "metadata": {
        "id": "vpkDUl4Yt86C"
      },
      "execution_count": null,
      "outputs": []
    },
    {
      "cell_type": "code",
      "source": [
        "cm_tree = confusion_matrix(y_test,tree_predict)\n",
        "sns.heatmap(cm_tree,annot=True)"
      ],
      "metadata": {
        "colab": {
          "base_uri": "https://localhost:8080/",
          "height": 283
        },
        "id": "-EXJLIDkuACs",
        "outputId": "361efbd2-7b1e-4e36-d918-d535dbe1e8e6"
      },
      "execution_count": null,
      "outputs": [
        {
          "output_type": "execute_result",
          "data": {
            "text/plain": [
              "<matplotlib.axes._subplots.AxesSubplot at 0x7f4f3b644ad0>"
            ]
          },
          "metadata": {},
          "execution_count": 304
        },
        {
          "output_type": "display_data",
          "data": {
            "text/plain": [
              "<Figure size 432x288 with 2 Axes>"
            ],
            "image/png": "[encoded data removed]"
          },
          "metadata": {
            "needs_background": "light"
          }
        }
      ]
    },
    {
      "cell_type": "markdown",
      "source": [
        "Random Forest"
      ],
      "metadata": {
        "id": "mlEsY3h7uGiJ"
      }
    },
    {
      "cell_type": "code",
      "source": [
        "from sklearn.ensemble import RandomForestClassifier\n",
        "rf = RandomForestClassifier()\n",
        "rclf = rf.fit(X_train, y_train)\n",
        "rfpred = rclf.predict(X_test)\n",
        "\n",
        "rf_ac = accuracy_score(y_test, rfpred)\n",
        "rf_ac"
      ],
      "metadata": {
        "colab": {
          "base_uri": "https://localhost:8080/"
        },
        "id": "Gmu4GshLuBww",
        "outputId": "00ac03c6-65ed-47ec-a05b-a43a46b278d3"
      },
      "execution_count": null,
      "outputs": [
        {
          "output_type": "execute_result",
          "data": {
            "text/plain": [
              "0.993006993006993"
            ]
          },
          "metadata": {},
          "execution_count": 305
        }
      ]
    },
    {
      "cell_type": "code",
      "source": [
        "rf_pr = precision_score(y_test, rfpred, average = 'weighted', zero_division=0)\n",
        "rf_pr"
      ],
      "metadata": {
        "colab": {
          "base_uri": "https://localhost:8080/"
        },
        "id": "_uXXwTB9uJvR",
        "outputId": "1926d2b5-e714-42d2-b4d2-92125d3620d5"
      },
      "execution_count": null,
      "outputs": [
        {
          "output_type": "execute_result",
          "data": {
            "text/plain": [
              "0.9920184485401877"
            ]
          },
          "metadata": {},
          "execution_count": 306
        }
      ]
    },
    {
      "cell_type": "code",
      "source": [
        "rf_rc = recall_score(y_test, rfpred, average = 'weighted')\n",
        "rf_rc"
      ],
      "metadata": {
        "colab": {
          "base_uri": "https://localhost:8080/"
        },
        "id": "_TaWsSJ4uMwh",
        "outputId": "116ceeb3-98d4-4a79-f5f1-6c5af8b3be35"
      },
      "execution_count": null,
      "outputs": [
        {
          "output_type": "execute_result",
          "data": {
            "text/plain": [
              "0.993006993006993"
            ]
          },
          "metadata": {},
          "execution_count": 307
        }
      ]
    },
    {
      "cell_type": "code",
      "source": [
        "from sklearn.metrics import f1_score\n",
        "rf_f1 = f1_score(y_test, rfpred, average = 'weighted')\n",
        "rf_f1"
      ],
      "metadata": {
        "colab": {
          "base_uri": "https://localhost:8080/"
        },
        "id": "kpeMmnxOzC6x",
        "outputId": "337091df-0566-4dca-b857-4865b91afaf4"
      },
      "execution_count": null,
      "outputs": [
        {
          "output_type": "execute_result",
          "data": {
            "text/plain": [
              "0.9923909602621589"
            ]
          },
          "metadata": {},
          "execution_count": 308
        }
      ]
    },
    {
      "cell_type": "code",
      "source": [
        "metrics_rf = [rf_ac, rf_pr, rf_rc, rf_f1]"
      ],
      "metadata": {
        "id": "UTvhhqG4uOm9"
      },
      "execution_count": null,
      "outputs": []
    },
    {
      "cell_type": "code",
      "source": [
        "cm_rf = confusion_matrix(y_test,rfpred)\n",
        "sns.heatmap(cm_rf,annot=True)"
      ],
      "metadata": {
        "colab": {
          "base_uri": "https://localhost:8080/",
          "height": 283
        },
        "id": "3nrz8_DPuQj4",
        "outputId": "62594fc9-13af-41f3-8ac9-d8bafe6ecbef"
      },
      "execution_count": null,
      "outputs": [
        {
          "output_type": "execute_result",
          "data": {
            "text/plain": [
              "<matplotlib.axes._subplots.AxesSubplot at 0x7f4f3b339210>"
            ]
          },
          "metadata": {},
          "execution_count": 310
        },
        {
          "output_type": "display_data",
          "data": {
            "text/plain": [
              "<Figure size 432x288 with 2 Axes>"
            ],
            "image/png": "[encoded data removed]"
          },
          "metadata": {
            "needs_background": "light"
          }
        }
      ]
    },
    {
      "cell_type": "code",
      "source": [],
      "metadata": {
        "id": "WUyF9c2VuUP4"
      },
      "execution_count": null,
      "outputs": []
    },
    {
      "cell_type": "markdown",
      "source": [
        "Modelado Etapa 2\n",
        "  - la clase predictora se convierte en una clase binaria\n",
        "  - Se realiza Balanceo de los datos de la clase minoritaria utlizando oversampling con la funcion ADASYN"
      ],
      "metadata": {
        "id": "l997uBPMsA6V"
      }
    },
    {
      "cell_type": "code",
      "metadata": {
        "id": "YSk5R_XwZ_HQ",
        "colab": {
          "base_uri": "https://localhost:8080/"
        },
        "outputId": "0690ae25-f1b6-4a7a-f399-7b67b1006e4e"
      },
      "source": [
        "# Dividir el conjunto de datos en conjuntos de entrenamiento y test\n",
        "\n",
        "from sklearn.model_selection import train_test_split\n",
        "\n",
        "X_train1, X_test, y_train1, y_test = train_test_split(data_bin.drop('Class', axis=1), data_bin.Class, test_size=0.30, random_state = 1)\n",
        "print (X_train1.shape, y_train1.shape)\n",
        "print (X_test.shape, y_test.shape)\n",
        "\n",
        "print(y_train1.sum())  #Cantidad de positivos antes del balanceo\n",
        "\n",
        "#Balanceo de los datos de entrenamiento utilizando el metodo ADASYN (Adaptive Synthetic Sampling Approach for Imbalanced Learning.)\n",
        "from imblearn.over_sampling import SMOTE, ADASYN\n",
        "ada = ADASYN(random_state=42)\n",
        "X_train, y_train = ada.fit_resample(X_train1, y_train1)\n",
        "print (X_train.shape, y_train.shape)\n",
        "print (X_test.shape, y_test.shape)\n",
        "print(y_train.sum())  #Cantidad de positivos despues del balanceo\n"
      ],
      "execution_count": null,
      "outputs": [
        {
          "output_type": "stream",
          "name": "stdout",
          "text": [
            "(1668, 25) (1668,)\n",
            "(715, 25) (715,)\n",
            "131\n",
            "(3092, 25) (3092,)\n",
            "(715, 25) (715,)\n",
            "1555\n"
          ]
        }
      ]
    },
    {
      "cell_type": "code",
      "metadata": {
        "id": "4Y9zk4PTZ_HQ",
        "colab": {
          "base_uri": "https://localhost:8080/"
        },
        "outputId": "b1f5d6b9-a025-4fc9-a195-83794a56a9ca"
      },
      "source": [
        "# Entrenamiento del modelo de clasificación por regresión logística\n",
        "from sklearn.linear_model import LogisticRegression\n",
        "from sklearn.metrics import classification_report\n",
        "\n",
        "logisticRegr = LogisticRegression(solver=\"lbfgs\", max_iter=500, tol=0.01)\n",
        "logisticRegr.fit(X_train, y_train)\n"
      ],
      "execution_count": null,
      "outputs": [
        {
          "output_type": "execute_result",
          "data": {
            "text/plain": [
              "LogisticRegression(max_iter=500, tol=0.01)"
            ]
          },
          "metadata": {},
          "execution_count": 312
        }
      ]
    },
    {
      "cell_type": "code",
      "metadata": {
        "id": "t1wY0UdAZ_HR",
        "colab": {
          "base_uri": "https://localhost:8080/"
        },
        "outputId": "b2780925-fee1-422c-9772-7844f73a0b26"
      },
      "source": [
        "# Aplicación del modelo construido a los datos de test\n",
        "predictions = logisticRegr.predict(X_test)\n",
        "predictions"
      ],
      "execution_count": null,
      "outputs": [
        {
          "output_type": "execute_result",
          "data": {
            "text/plain": [
              "array([0, 1, 0, 0, 1, 0, 0, 1, 0, 0, 0, 0, 0, 1, 0, 0, 0, 0, 0, 0, 0, 0,\n",
              "       0, 0, 0, 0, 0, 0, 0, 0, 0, 0, 0, 0, 0, 0, 0, 0, 1, 0, 0, 0, 0, 0,\n",
              "       0, 0, 0, 1, 0, 0, 0, 0, 0, 0, 0, 0, 0, 0, 0, 0, 0, 0, 0, 0, 0, 0,\n",
              "       0, 0, 0, 0, 0, 0, 0, 0, 1, 0, 0, 1, 0, 0, 1, 0, 0, 0, 1, 0, 0, 0,\n",
              "       0, 0, 0, 0, 0, 0, 0, 0, 1, 0, 0, 0, 0, 0, 0, 0, 0, 0, 0, 0, 0, 0,\n",
              "       0, 0, 0, 0, 0, 1, 0, 0, 0, 1, 0, 0, 0, 0, 0, 0, 1, 0, 0, 0, 0, 0,\n",
              "       0, 0, 0, 0, 0, 0, 0, 0, 0, 1, 0, 0, 1, 0, 0, 0, 0, 0, 0, 0, 1, 0,\n",
              "       0, 0, 1, 0, 0, 0, 0, 0, 0, 0, 0, 0, 0, 0, 0, 0, 0, 0, 0, 0, 1, 0,\n",
              "       0, 0, 0, 0, 1, 0, 0, 0, 0, 0, 0, 0, 0, 0, 0, 0, 0, 0, 0, 0, 0, 1,\n",
              "       0, 0, 0, 0, 0, 0, 0, 0, 0, 0, 0, 0, 1, 0, 0, 0, 0, 0, 0, 0, 0, 0,\n",
              "       0, 0, 0, 0, 0, 0, 0, 0, 0, 0, 0, 0, 0, 0, 0, 0, 0, 0, 0, 0, 0, 0,\n",
              "       0, 0, 0, 0, 0, 0, 0, 0, 0, 0, 0, 0, 1, 0, 0, 0, 1, 0, 0, 0, 0, 0,\n",
              "       0, 0, 0, 0, 0, 0, 0, 0, 1, 1, 0, 0, 0, 0, 0, 1, 0, 0, 1, 0, 0, 0,\n",
              "       0, 0, 0, 0, 0, 0, 0, 0, 0, 0, 0, 1, 0, 0, 1, 0, 0, 0, 0, 0, 0, 0,\n",
              "       0, 0, 0, 0, 0, 0, 0, 0, 0, 0, 0, 1, 0, 0, 0, 0, 1, 0, 0, 0, 0, 0,\n",
              "       1, 0, 0, 1, 0, 0, 0, 1, 0, 0, 1, 0, 0, 0, 0, 0, 0, 0, 0, 0, 0, 0,\n",
              "       0, 0, 0, 0, 0, 0, 0, 0, 1, 0, 0, 0, 0, 0, 1, 0, 0, 0, 0, 0, 0, 0,\n",
              "       1, 0, 0, 0, 0, 0, 0, 0, 0, 0, 0, 0, 0, 0, 0, 0, 0, 1, 0, 0, 0, 0,\n",
              "       0, 0, 0, 0, 0, 0, 1, 0, 0, 0, 0, 0, 0, 0, 1, 0, 0, 1, 0, 0, 0, 0,\n",
              "       1, 0, 0, 0, 0, 0, 1, 0, 1, 0, 0, 0, 0, 0, 0, 1, 0, 0, 0, 0, 0, 0,\n",
              "       0, 0, 0, 1, 0, 0, 0, 0, 1, 0, 0, 1, 1, 0, 0, 1, 0, 0, 0, 1, 0, 0,\n",
              "       0, 0, 1, 0, 0, 0, 0, 0, 1, 0, 1, 0, 0, 0, 0, 0, 0, 0, 0, 1, 0, 0,\n",
              "       0, 0, 0, 0, 0, 0, 0, 0, 0, 0, 0, 0, 0, 0, 0, 0, 0, 0, 0, 0, 0, 0,\n",
              "       0, 0, 0, 0, 0, 0, 0, 0, 0, 0, 1, 1, 0, 0, 0, 0, 0, 0, 0, 1, 0, 0,\n",
              "       0, 0, 0, 0, 0, 0, 0, 0, 1, 0, 1, 0, 0, 0, 0, 0, 0, 0, 0, 1, 0, 0,\n",
              "       0, 0, 0, 0, 0, 0, 1, 0, 0, 0, 0, 1, 0, 1, 0, 0, 0, 0, 0, 1, 0, 0,\n",
              "       0, 0, 0, 0, 1, 0, 1, 0, 0, 0, 0, 0, 0, 0, 0, 0, 0, 0, 1, 0, 0, 0,\n",
              "       0, 0, 0, 0, 0, 0, 0, 0, 0, 0, 0, 0, 0, 0, 0, 0, 0, 0, 0, 0, 0, 0,\n",
              "       0, 1, 0, 0, 0, 0, 0, 0, 0, 1, 0, 1, 0, 0, 0, 0, 0, 0, 0, 0, 0, 0,\n",
              "       0, 0, 0, 0, 0, 0, 0, 0, 0, 0, 0, 0, 0, 0, 0, 1, 0, 0, 0, 0, 0, 0,\n",
              "       1, 0, 0, 0, 0, 0, 0, 0, 0, 0, 0, 0, 0, 0, 0, 0, 0, 0, 0, 1, 1, 0,\n",
              "       0, 0, 0, 0, 0, 0, 0, 0, 0, 0, 0, 0, 0, 0, 0, 0, 0, 0, 0, 0, 0, 0,\n",
              "       0, 0, 0, 0, 0, 0, 1, 0, 1, 0, 0])"
            ]
          },
          "metadata": {},
          "execution_count": 313
        }
      ]
    },
    {
      "cell_type": "code",
      "metadata": {
        "id": "bb7qTlrNZ_HR",
        "colab": {
          "base_uri": "https://localhost:8080/"
        },
        "outputId": "c2f09336-383a-45ea-9a3c-3f58874fb711"
      },
      "source": [
        "# Cálculo del accuracy para evaluar el desempeño del modelo sobre los datos de test\n",
        "from sklearn.metrics import accuracy_score\n",
        "\n",
        "logr_ac = accuracy_score(y_test, predictions)\n",
        "logr_ac"
      ],
      "execution_count": null,
      "outputs": [
        {
          "output_type": "execute_result",
          "data": {
            "text/plain": [
              "0.9692307692307692"
            ]
          },
          "metadata": {},
          "execution_count": 314
        }
      ]
    },
    {
      "cell_type": "code",
      "source": [
        "from sklearn.metrics import precision_score\n",
        "\n",
        "logr_pr = precision_score(y_test, predictions, average = 'weighted', zero_division=0)\n",
        "logr_pr"
      ],
      "metadata": {
        "colab": {
          "base_uri": "https://localhost:8080/"
        },
        "id": "FoHoJkkaTvUP",
        "outputId": "fa01f68b-810e-40e0-8ea1-76db8bb36e9c"
      },
      "execution_count": null,
      "outputs": [
        {
          "output_type": "execute_result",
          "data": {
            "text/plain": [
              "0.9719314361301463"
            ]
          },
          "metadata": {},
          "execution_count": 315
        }
      ]
    },
    {
      "cell_type": "code",
      "source": [
        "from sklearn.metrics import recall_score\n",
        "\n",
        "logr_rc = recall_score(y_test, predictions, average = 'micro')\n",
        "logr_rc"
      ],
      "metadata": {
        "colab": {
          "base_uri": "https://localhost:8080/"
        },
        "id": "FmaxpTHFT0RD",
        "outputId": "35f35387-acf3-4415-aeb1-0a4ddb3488fa"
      },
      "execution_count": null,
      "outputs": [
        {
          "output_type": "execute_result",
          "data": {
            "text/plain": [
              "0.9692307692307692"
            ]
          },
          "metadata": {},
          "execution_count": 316
        }
      ]
    },
    {
      "cell_type": "code",
      "source": [
        "from sklearn.metrics import f1_score\n",
        "logr_f1 = f1_score(y_test, predictions, average = 'micro')\n",
        "logr_f1"
      ],
      "metadata": {
        "colab": {
          "base_uri": "https://localhost:8080/"
        },
        "id": "AX5LPzD0zPvd",
        "outputId": "06cc9f90-5843-405c-8a4c-dfac1577f9fa"
      },
      "execution_count": null,
      "outputs": [
        {
          "output_type": "execute_result",
          "data": {
            "text/plain": [
              "0.9692307692307692"
            ]
          },
          "metadata": {},
          "execution_count": 317
        }
      ]
    },
    {
      "cell_type": "code",
      "source": [
        "metrics_logr_b = [logr_ac, logr_pr, logr_rc, logr_f1]"
      ],
      "metadata": {
        "id": "YCpuqOQeT5Z1"
      },
      "execution_count": null,
      "outputs": []
    },
    {
      "cell_type": "code",
      "source": [
        "from sklearn.metrics import confusion_matrix\n",
        "cm = confusion_matrix(y_test,predictions)\n",
        "sns.heatmap(cm,annot=True)"
      ],
      "metadata": {
        "colab": {
          "base_uri": "https://localhost:8080/",
          "height": 283
        },
        "id": "h2P7C2cwT80-",
        "outputId": "ca97a673-3a7b-413c-9465-de5af5e7ba6a"
      },
      "execution_count": null,
      "outputs": [
        {
          "output_type": "execute_result",
          "data": {
            "text/plain": [
              "<matplotlib.axes._subplots.AxesSubplot at 0x7f4f3aed3910>"
            ]
          },
          "metadata": {},
          "execution_count": 319
        },
        {
          "output_type": "display_data",
          "data": {
            "text/plain": [
              "<Figure size 432x288 with 2 Axes>"
            ],
            "image/png": "[encoded data removed]"
          },
          "metadata": {
            "needs_background": "light"
          }
        }
      ]
    },
    {
      "cell_type": "markdown",
      "source": [
        "Arboles de Decision"
      ],
      "metadata": {
        "id": "RFD3ymeErSIX"
      }
    },
    {
      "cell_type": "code",
      "source": [
        "# Entrenamiento del modelo de clasificación por arboles de decision\n",
        "from sklearn.tree import DecisionTreeClassifier\n",
        "tree = DecisionTreeClassifier()\n",
        "clf = tree.fit(X_train, y_train)\n",
        "tree_predict = clf.predict(X_test)\n"
      ],
      "metadata": {
        "id": "8GASlpSfU6Jp"
      },
      "execution_count": null,
      "outputs": []
    },
    {
      "cell_type": "code",
      "source": [
        "# Calculo del Accuracy del Modelo Arboles de decision con los datos de pruebas\n",
        "tree_ac = accuracy_score(y_test, tree_predict)\n",
        "tree_ac"
      ],
      "metadata": {
        "colab": {
          "base_uri": "https://localhost:8080/"
        },
        "id": "b1lcp3vFVAB8",
        "outputId": "fca96f87-e588-464c-f16c-17fe0146fb81"
      },
      "execution_count": null,
      "outputs": [
        {
          "output_type": "execute_result",
          "data": {
            "text/plain": [
              "0.9958041958041958"
            ]
          },
          "metadata": {},
          "execution_count": 321
        }
      ]
    },
    {
      "cell_type": "code",
      "source": [
        "# Cálculo de la precision para evaluar el desempeño del modelo sobre los datos de test\n",
        "tree_pr = precision_score(y_test, tree_predict, average = 'weighted', zero_division=0)\n",
        "tree_pr"
      ],
      "metadata": {
        "colab": {
          "base_uri": "https://localhost:8080/"
        },
        "id": "y4O8-ETYVDLM",
        "outputId": "4d1f887a-7ee3-4e58-dd9d-dc3696ce2043"
      },
      "execution_count": null,
      "outputs": [
        {
          "output_type": "execute_result",
          "data": {
            "text/plain": [
              "0.9958419874698945"
            ]
          },
          "metadata": {},
          "execution_count": 322
        }
      ]
    },
    {
      "cell_type": "code",
      "source": [
        "# Calculo del Recall para el modelo de arboles de decision\n",
        "tree_rc = recall_score(y_test, tree_predict, average = 'weighted')\n",
        "tree_rc"
      ],
      "metadata": {
        "colab": {
          "base_uri": "https://localhost:8080/"
        },
        "id": "zQu0x9oOV6-R",
        "outputId": "81387475-4046-4c4a-b569-264a9c7c1ed2"
      },
      "execution_count": null,
      "outputs": [
        {
          "output_type": "execute_result",
          "data": {
            "text/plain": [
              "0.9958041958041958"
            ]
          },
          "metadata": {},
          "execution_count": 323
        }
      ]
    },
    {
      "cell_type": "code",
      "source": [
        "from sklearn.metrics import f1_score\n",
        "tree_f1 = f1_score(y_test, tree_predict, average = 'weighted')\n",
        "tree_f1"
      ],
      "metadata": {
        "colab": {
          "base_uri": "https://localhost:8080/"
        },
        "id": "Q2S_DW2LzZ00",
        "outputId": "fbb79fd8-837a-4cee-d1e3-cebc1466d7c0"
      },
      "execution_count": null,
      "outputs": [
        {
          "output_type": "execute_result",
          "data": {
            "text/plain": [
              "0.9958176636040542"
            ]
          },
          "metadata": {},
          "execution_count": 324
        }
      ]
    },
    {
      "cell_type": "code",
      "source": [
        "metrics_tree_b = [tree_ac, tree_pr, tree_rc, tree_f1]"
      ],
      "metadata": {
        "id": "CxZl5f3IWMrK"
      },
      "execution_count": null,
      "outputs": []
    },
    {
      "cell_type": "code",
      "source": [
        "cm_tree = confusion_matrix(y_test,tree_predict)\n",
        "sns.heatmap(cm_tree,annot=True)"
      ],
      "metadata": {
        "colab": {
          "base_uri": "https://localhost:8080/",
          "height": 283
        },
        "id": "r8gAo9YNWRW3",
        "outputId": "1ee27dd6-7a77-485b-a3f3-1617309a72ab"
      },
      "execution_count": null,
      "outputs": [
        {
          "output_type": "execute_result",
          "data": {
            "text/plain": [
              "<matplotlib.axes._subplots.AxesSubplot at 0x7f4f3ae5ab90>"
            ]
          },
          "metadata": {},
          "execution_count": 326
        },
        {
          "output_type": "display_data",
          "data": {
            "text/plain": [
              "<Figure size 432x288 with 2 Axes>"
            ],
            "image/png": "[encoded data removed]"
          },
          "metadata": {
            "needs_background": "light"
          }
        }
      ]
    },
    {
      "cell_type": "markdown",
      "source": [
        "Random Forest"
      ],
      "metadata": {
        "id": "CYVmXLb5rVHZ"
      }
    },
    {
      "cell_type": "code",
      "source": [
        "# Entrenamiento del modelo de clasificación por random forest\n",
        "from sklearn.ensemble import RandomForestClassifier\n",
        "rf = RandomForestClassifier()\n",
        "rclf = rf.fit(X_train, y_train)\n",
        "rfpred = rclf.predict(X_test)\n",
        "\n"
      ],
      "metadata": {
        "id": "mxbUQdD2W_Yf"
      },
      "execution_count": null,
      "outputs": []
    },
    {
      "cell_type": "code",
      "source": [
        "# Calculo del Accuracy del Modelo random forest con los datos de pruebas\n",
        "rf_ac = accuracy_score(y_test, rfpred)\n",
        "rf_ac"
      ],
      "metadata": {
        "colab": {
          "base_uri": "https://localhost:8080/"
        },
        "id": "p8Yq8MftW_PS",
        "outputId": "e9b53dc5-cffa-4d3c-c6b2-aabd0ded3aaa"
      },
      "execution_count": null,
      "outputs": [
        {
          "output_type": "execute_result",
          "data": {
            "text/plain": [
              "0.9944055944055944"
            ]
          },
          "metadata": {},
          "execution_count": 328
        }
      ]
    },
    {
      "cell_type": "code",
      "source": [
        "# Cálculo de la precision para evaluar el desempeño del modelo sobre los datos de test\n",
        "rf_pr = precision_score(y_test, rfpred, average = 'weighted', zero_division=0)\n",
        "rf_pr"
      ],
      "metadata": {
        "colab": {
          "base_uri": "https://localhost:8080/"
        },
        "id": "5GK9yrPsW_GK",
        "outputId": "24a80c6c-2b5f-4be7-de9b-1202e14c1675"
      },
      "execution_count": null,
      "outputs": [
        {
          "output_type": "execute_result",
          "data": {
            "text/plain": [
              "0.9945194425904775"
            ]
          },
          "metadata": {},
          "execution_count": 329
        }
      ]
    },
    {
      "cell_type": "code",
      "source": [
        "# Calculo del Recall para el modelo de random forest\n",
        "rf_rc = recall_score(y_test, rfpred, average = 'weighted')\n",
        "rf_rc"
      ],
      "metadata": {
        "colab": {
          "base_uri": "https://localhost:8080/"
        },
        "id": "7qPFnYxAW-wS",
        "outputId": "82619ca4-2477-4e40-90ae-8de8fa5a4081"
      },
      "execution_count": null,
      "outputs": [
        {
          "output_type": "execute_result",
          "data": {
            "text/plain": [
              "0.9944055944055944"
            ]
          },
          "metadata": {},
          "execution_count": 330
        }
      ]
    },
    {
      "cell_type": "code",
      "source": [
        "from sklearn.metrics import f1_score\n",
        "rf_f1 = f1_score(y_test, rfpred, average = 'weighted')\n",
        "rf_f1"
      ],
      "metadata": {
        "colab": {
          "base_uri": "https://localhost:8080/"
        },
        "id": "C_BlQ3Ztzgco",
        "outputId": "e5f310d4-991d-4c41-9976-8b5781ce61b7"
      },
      "execution_count": null,
      "outputs": [
        {
          "output_type": "execute_result",
          "data": {
            "text/plain": [
              "0.9944412176970318"
            ]
          },
          "metadata": {},
          "execution_count": 331
        }
      ]
    },
    {
      "cell_type": "code",
      "source": [
        "metrics_rf_b = [rf_ac, rf_pr, rf_rc, rf_f1]"
      ],
      "metadata": {
        "id": "zYHcay0SW-ZS"
      },
      "execution_count": null,
      "outputs": []
    },
    {
      "cell_type": "code",
      "source": [
        "cm_rf = confusion_matrix(y_test,rfpred)\n",
        "sns.heatmap(cm_rf,annot=True)"
      ],
      "metadata": {
        "colab": {
          "base_uri": "https://localhost:8080/",
          "height": 283
        },
        "id": "-x_Kq1bGXbL3",
        "outputId": "c6ccab92-7e51-4a0d-e67e-2d277de16089"
      },
      "execution_count": null,
      "outputs": [
        {
          "output_type": "execute_result",
          "data": {
            "text/plain": [
              "<matplotlib.axes._subplots.AxesSubplot at 0x7f4f3ad72150>"
            ]
          },
          "metadata": {},
          "execution_count": 333
        },
        {
          "output_type": "display_data",
          "data": {
            "text/plain": [
              "<Figure size 432x288 with 2 Axes>"
            ],
            "image/png": "[encoded data removed]"
          },
          "metadata": {
            "needs_background": "light"
          }
        }
      ]
    },
    {
      "cell_type": "code",
      "source": [
        "metrics_all = [metrics_logr, metrics_tree, metrics_rf,metrics_logr_b, metrics_tree_b, metrics_rf_b]\n",
        "metrics_df = pd.DataFrame(metrics_all, columns = ['Accuracy', 'Precision', 'Recall', 'F1 Score'])\n",
        "metrics_df['model']= ['Logit', 'D-Tree', 'R. Forest','Logit Balanced OverSampled', 'D-Tree Balanced OverSampled', 'R. Forest Balanced OverSampled']\n",
        "metrics_df.set_index('model', inplace = True)\n",
        "metrics_df\n"
      ],
      "metadata": {
        "colab": {
          "base_uri": "https://localhost:8080/",
          "height": 269
        },
        "id": "6wtTcxQ5X87V",
        "outputId": "a8258be8-d060-41a7-8124-ed6ef5ef53da"
      },
      "execution_count": null,
      "outputs": [
        {
          "output_type": "execute_result",
          "data": {
            "text/plain": [
              "                                Accuracy  Precision    Recall  F1 Score\n",
              "model                                                                  \n",
              "Logit                           0.934266   0.923005  0.934266  0.934266\n",
              "D-Tree                          0.993007   0.991756  0.993007  0.992364\n",
              "R. Forest                       0.993007   0.992018  0.993007  0.992391\n",
              "Logit Balanced OverSampled      0.969231   0.971931  0.969231  0.969231\n",
              "D-Tree Balanced OverSampled     0.995804   0.995842  0.995804  0.995818\n",
              "R. Forest Balanced OverSampled  0.994406   0.994519  0.994406  0.994441"
            ],
            "text/html": [
              "\n",
              "  <div id=\"df-d290f1e6-da3f-4f57-80bc-89350803dec0\">\n",
              "    <div class=\"colab-df-container\">\n",
              "      <div>\n",
              "<style scoped>\n",
              "    .dataframe tbody tr th:only-of-type {\n",
              "        vertical-align: middle;\n",
              "    }\n",
              "\n",
              "    .dataframe tbody tr th {\n",
              "        vertical-align: top;\n",
              "    }\n",
              "\n",
              "    .dataframe thead th {\n",
              "        text-align: right;\n",
              "    }\n",
              "</style>\n",
              "<table border=\"1\" class=\"dataframe\">\n",
              "  <thead>\n",
              "    <tr style=\"text-align: right;\">\n",
              "      <th></th>\n",
              "      <th>Accuracy</th>\n",
              "      <th>Precision</th>\n",
              "      <th>Recall</th>\n",
              "      <th>F1 Score</th>\n",
              "    </tr>\n",
              "    <tr>\n",
              "      <th>model</th>\n",
              "      <th></th>\n",
              "      <th></th>\n",
              "      <th></th>\n",
              "      <th></th>\n",
              "    </tr>\n",
              "  </thead>\n",
              "  <tbody>\n",
              "    <tr>\n",
              "      <th>Logit</th>\n",
              "      <td>0.934266</td>\n",
              "      <td>0.923005</td>\n",
              "      <td>0.934266</td>\n",
              "      <td>0.934266</td>\n",
              "    </tr>\n",
              "    <tr>\n",
              "      <th>D-Tree</th>\n",
              "      <td>0.993007</td>\n",
              "      <td>0.991756</td>\n",
              "      <td>0.993007</td>\n",
              "      <td>0.992364</td>\n",
              "    </tr>\n",
              "    <tr>\n",
              "      <th>R. Forest</th>\n",
              "      <td>0.993007</td>\n",
              "      <td>0.992018</td>\n",
              "      <td>0.993007</td>\n",
              "      <td>0.992391</td>\n",
              "    </tr>\n",
              "    <tr>\n",
              "      <th>Logit Balanced OverSampled</th>\n",
              "      <td>0.969231</td>\n",
              "      <td>0.971931</td>\n",
              "      <td>0.969231</td>\n",
              "      <td>0.969231</td>\n",
              "    </tr>\n",
              "    <tr>\n",
              "      <th>D-Tree Balanced OverSampled</th>\n",
              "      <td>0.995804</td>\n",
              "      <td>0.995842</td>\n",
              "      <td>0.995804</td>\n",
              "      <td>0.995818</td>\n",
              "    </tr>\n",
              "    <tr>\n",
              "      <th>R. Forest Balanced OverSampled</th>\n",
              "      <td>0.994406</td>\n",
              "      <td>0.994519</td>\n",
              "      <td>0.994406</td>\n",
              "      <td>0.994441</td>\n",
              "    </tr>\n",
              "  </tbody>\n",
              "</table>\n",
              "</div>\n",
              "      <button class=\"colab-df-convert\" onclick=\"convertToInteractive('df-d290f1e6-da3f-4f57-80bc-89350803dec0')\"\n",
              "              title=\"Convert this dataframe to an interactive table.\"\n",
              "              style=\"display:none;\">\n",
              "        \n",
              "  <svg xmlns=\"http://www.w3.org/2000/svg\" height=\"24px\"viewBox=\"0 0 24 24\"\n",
              "       width=\"24px\">\n",
              "    <path d=\"M0 0h24v24H0V0z\" fill=\"none\"/>\n",
              "    <path d=\"M18.56 5.44l.94 2.06.94-2.06 2.06-.94-2.06-.94-.94-2.06-.94 2.06-2.06.94zm-11 1L8.5 8.5l.94-2.06 2.06-.94-2.06-.94L8.5 2.5l-.94 2.06-2.06.94zm10 10l.94 2.06.94-2.06 2.06-.94-2.06-.94-.94-2.06-.94 2.06-2.06.94z\"/><path d=\"M17.41 7.96l-1.37-1.37c-.4-.4-.92-.59-1.43-.59-.52 0-1.04.2-1.43.59L10.3 9.45l-7.72 7.72c-.78.78-.78 2.05 0 2.83L4 21.41c.39.39.9.59 1.41.59.51 0 1.02-.2 1.41-.59l7.78-7.78 2.81-2.81c.8-.78.8-2.07 0-2.86zM5.41 20L4 18.59l7.72-7.72 1.47 1.35L5.41 20z\"/>\n",
              "  </svg>\n",
              "      </button>\n",
              "      \n",
              "  <style>\n",
              "    .colab-df-container {\n",
              "      display:flex;\n",
              "      flex-wrap:wrap;\n",
              "      gap: 12px;\n",
              "    }\n",
              "\n",
              "    .colab-df-convert {\n",
              "      background-color: #E8F0FE;\n",
              "      border: none;\n",
              "      border-radius: 50%;\n",
              "      cursor: pointer;\n",
              "      display: none;\n",
              "      fill: #1967D2;\n",
              "      height: 32px;\n",
              "      padding: 0 0 0 0;\n",
              "      width: 32px;\n",
              "    }\n",
              "\n",
              "    .colab-df-convert:hover {\n",
              "      background-color: #E2EBFA;\n",
              "      box-shadow: 0px 1px 2px rgba(60, 64, 67, 0.3), 0px 1px 3px 1px rgba(60, 64, 67, 0.15);\n",
              "      fill: #174EA6;\n",
              "    }\n",
              "\n",
              "    [theme=dark] .colab-df-convert {\n",
              "      background-color: #3B4455;\n",
              "      fill: #D2E3FC;\n",
              "    }\n",
              "\n",
              "    [theme=dark] .colab-df-convert:hover {\n",
              "      background-color: #434B5C;\n",
              "      box-shadow: 0px 1px 3px 1px rgba(0, 0, 0, 0.15);\n",
              "      filter: drop-shadow(0px 1px 2px rgba(0, 0, 0, 0.3));\n",
              "      fill: #FFFFFF;\n",
              "    }\n",
              "  </style>\n",
              "\n",
              "      <script>\n",
              "        const buttonEl =\n",
              "          document.querySelector('#df-d290f1e6-da3f-4f57-80bc-89350803dec0 button.colab-df-convert');\n",
              "        buttonEl.style.display =\n",
              "          google.colab.kernel.accessAllowed ? 'block' : 'none';\n",
              "\n",
              "        async function convertToInteractive(key) {\n",
              "          const element = document.querySelector('#df-d290f1e6-da3f-4f57-80bc-89350803dec0');\n",
              "          const dataTable =\n",
              "            await google.colab.kernel.invokeFunction('convertToInteractive',\n",
              "                                                     [key], {});\n",
              "          if (!dataTable) return;\n",
              "\n",
              "          const docLinkHtml = 'Like what you see? Visit the ' +\n",
              "            '<a target=\"_blank\" href=https://colab.research.google.com/notebooks/data_table.ipynb>data table notebook</a>'\n",
              "            + ' to learn more about interactive tables.';\n",
              "          element.innerHTML = '';\n",
              "          dataTable['output_type'] = 'display_data';\n",
              "          await google.colab.output.renderOutput(dataTable, element);\n",
              "          const docLink = document.createElement('div');\n",
              "          docLink.innerHTML = docLinkHtml;\n",
              "          element.appendChild(docLink);\n",
              "        }\n",
              "      </script>\n",
              "    </div>\n",
              "  </div>\n",
              "  "
            ]
          },
          "metadata": {},
          "execution_count": 334
        }
      ]
    },
    {
      "cell_type": "markdown",
      "metadata": {
        "id": "-4hRikE5odvn"
      },
      "source": [
        "# Fin del programa"
      ]
    }
  ]
}